{
 "cells": [
  {
   "cell_type": "markdown",
   "metadata": {},
   "source": [
    "# Make a virtual buoy with satellite data  \n",
    "## Background\n",
    "There are buoys in many locations around the world that provide data streams of oceanic and atmospheric parameters. The data are often available through data centers like the those National Data Buoy Center (NDBC https://www.ndbc.noaa.gov) and ARGO floats program (http://www.argo.ucsd.edu). Despite these impressive efforts to monitor environmental conditions, in situ buoy data may not be available for your area of interest. Some locations are hard to access, making deploying and maintaining a buoy impractical. In addition, buoys are expensive to purchase, deploy and maintain. Therefore, limited funding may  prevent installation of a buoy in the first place or the continued operation of a buoy already in place. Using satellite data to create virtual buoys can provide a solution to monitoring surface environmental conditions at locations where it is not feasible to install a buoy. For example, the University of South Florida has developed a virtual buoy system for locations off the Florida coast (https://optics.marine.usf.edu/projects/vbs.html).  \n",
    "\n",
    "## Overview \n",
    "The following exercise will demonstrate the use of the ERDDAP data server to create a virtual buoy. For the scenario, we will envision that a virtual buoy is need to continue the datastream for an *in situ* buoy that was discontinued at the end of 2019. For this exercise we will use the National Data Buoy Center (NDBC) buoy # 49259, which is located off the California coast at 34.767N latitude and 238.505E longitude, and pretend that it was discontinued at the end of 2019. The buoy measures several oceanic variables, but we will continue the sea surface temperature (SST) datastream using the NOAA Coral Reef Watch Blended SST satellite dataset.    \n",
    " \n",
    "### Steps in the exercise   \n",
    "* __Create the virtual buoy using the ERDDAP server__  \n",
    "\n",
    "* __Bring the virtual buoy data into Python and visualize__  \n",
    "\n",
    "* __Groundtruth the satellite data__   \n",
    " * Download buoy data and virtual buoy (satellite) data for the period from Jan. 2017 through Dec. 2019\n",
    " * Resample the buoy data to match the temporal resolution of the virtual buoy data\n",
    " * Run a linear regression to model the relationship between virtual buoy SST and buoy SST data\n",
    "\n",
    "* __Plot the results__\n",
    "\n",
    "\n",
    "### The exercise demonstrates the following skills:\n",
    "\n",
    "* __The use of ERDDAP to create a virtual buoy__      \n",
    "* __The use of the Pandas module to import and manipulate data__  \n",
    "* __Resampling data to bin into a lower resolution timestep__ \n",
    "* __Generating a linear regression model and statistics__\n",
    "* __Several approaches to plotting timeseries data__  \n",
    "* __Cleaning data to remove outlying data points__"
   ]
  },
  {
   "cell_type": "markdown",
   "metadata": {},
   "source": [
    "## Steps involed in this exercise    \n",
    "### Create the virtual buoy with ERDDAP  \n",
    "\n",
    "__Visualize the data with a plot__  \n",
    "\n",
    "__Load buoy data obtained from the National Data Buoy Center (NDBC) website__  \n",
    "We will load buoy data store in a CSV file (buoy_46259_2016_2019.csv) into a Pandas dataframe. \n",
    "* The data were obrtained from the NDBC buoy #46259 (https://www.ndbc.noaa.gov/station_history.php?station=46259). \n",
    "* The buoy is at 34.767N latitude and the 238.505E longitude  \n",
    "The file contains sampling date/time, mean wind direction, and surface water temperature for the years 2016-2019.\n",
    "* The sampling resolution for the data is a sample every 30 minutes  \n",
    "\n",
    "__Resample the buoy data to match the temporal resolution of the satellite data__  \n",
    "The sampling resolution for the buoy data is a sample every 30 minutes. However, the temporal resolution for the satellite dataset is daily. We will downsample the buoy data by generating daily means in order to match the temporal resolution of the satellite. \n",
    "\n",
    "\n",
    "__Use the ERDDAP data server to subsample and download the satellite data__  \n",
    "We will generate ERDDAP URLs to subset the satellite data at the latitude and longitude of the buoy and for each day in the downsampled buoy dataset and then download the data.  \n",
    "\n",
    "* Generate the ERDDAP data request URLs \n",
    "* Download the data and load it into a Pandas dataframe.\n",
    "\n",
    "__Plot buoy data and overlay the satellite data__"
   ]
  },
  {
   "cell_type": "markdown",
   "metadata": {},
   "source": [
    "## Import some require Python modules"
   ]
  },
  {
   "cell_type": "code",
   "execution_count": 21,
   "metadata": {},
   "outputs": [],
   "source": [
    "import numpy as np\n",
    "import xarray as xr\n",
    "from datetime import datetime\n",
    "import statsmodels.api as sm\n",
    "import os\n",
    "import pandas as pd\n",
    "import io\n",
    "import requests"
   ]
  },
  {
   "cell_type": "markdown",
   "metadata": {},
   "source": [
    "### Create a virtual buoy with ERDDAP\n",
    "#### Selecting a dataset\n",
    "A good dataset for sea surface temperature (SST) is the NOAA Coral Reef Watch Blended SST dataset (ERDDAP ID: `CRW_sst_v1_0`). It blends together many satellite sensors to obtain good daily coverage of the globe, and then uses an interpellation method to fill in data gaps. \n",
    "#### Query ERDDAP for information about the satellite dataset   \n",
    "ERDDAP has a feature that allows you to select and download metadata about any and all datasets. Click the link below to bring up the user interface for this feature: https://oceanwatch.pifsc.noaa.gov/erddap/tabledap/allDatasets.html     \n",
    "\n",
    "Like all data in ERDDAP, even metadata, the values can be downloaded via a URL-based data request. Details about the feature are presented in the ERDDAP tutorial. For the purposes of this exercise, it is enough to know that we are pulling the metadata from this page into a CSV file and using it in Python\n",
    "\n",
    "__Build a function to harvest metadata from ERDDAP__  \n",
    "\n",
    "* The function builds the URL-based data request, sends the request to ERDDAP for the metedata, and loads the results into a Pandas data frame.\n",
    "* The function also uses the xarray module in OpenDAP mode to obtain a list of data variables.\n",
    "* Inputs to the function are \n",
    " 1. The location of the ERDDAP on the Internet: The NOAA Coral Reef Watch Blended SST dataset can be found on the CoastWatch West Coast Node ERDDAP at this URL: `https://coastwatch.pfeg.noaa.gov/erddap`\n",
    " 2. The unique ERDDAP ID for the dataset: For the NOAA Coral Reef Watch Blended SST dataset the ID is `CRW_sst_v1_0`"
   ]
  },
  {
   "cell_type": "code",
   "execution_count": 22,
   "metadata": {},
   "outputs": [],
   "source": [
    "# Variable containing the WCN ERDDAP URL\n",
    "my_erddap_location = 'https://oceanwatch.pifsc.noaa.gov/erddap'\n",
    "\n",
    "# The dataset ID for NOAA Coral Reef Watch Blended SST \n",
    "my_ds_ID = 'CRW_sst_v1_0'\n",
    "\n",
    "# A function to form the metadata request URL and \n",
    "# download the metadata into a Pandas data frame\n",
    "def get_dataset_info(erddapURL, datasetID):\n",
    "    queryURL = \"\".join(['?datasetID,minLongitude,maxLongitude,longitudeSpacing,minLatitude,maxLatitude,latitudeSpacing,', \n",
    "                        'minAltitude,maxAltitude,', \n",
    "                        'minTime,maxTime,timeSpacing,griddap&datasetID=\"'])\n",
    "    \n",
    "    # Form the base URL leading to the allDatasets page\n",
    "    baseURL = os.path.join(erddapURL, \"tabledap\", \"allDatasets.csv\")\n",
    "    \n",
    "    # Form the data query part of the URL. \n",
    "    # For this exercise we will only request: \n",
    "    # 1) dataset ID, \n",
    "    # 2) the distance between values longitude values, \n",
    "    # 3) the minimum and maximum latitude, and the distance between values\n",
    "    # 4) the minimum and maximum altitude values\n",
    "    # 5) the minimum and maximum and time between time values\n",
    "    fullURL = ''.join([baseURL, queryURL, datasetID,'\"'])\n",
    "    \n",
    "    s=requests.get(fullURL).content\n",
    "    c=pd.read_csv(io.StringIO(s.decode('utf-8')), skiprows=[1])\n",
    "    \n",
    "    #print(c.griddap[0])\n",
    "    # get the data variables using xarray via OpenDAP \n",
    "    c['variables'] = [list(xr.open_dataset(c.griddap[0]).data_vars)]\n",
    "    return c\n"
   ]
  },
  {
   "cell_type": "markdown",
   "metadata": {},
   "source": [
    "__Run the function and view the results__ "
   ]
  },
  {
   "cell_type": "code",
   "execution_count": 23,
   "metadata": {},
   "outputs": [
    {
     "data": {
      "text/html": [
       "<div>\n",
       "<style scoped>\n",
       "    .dataframe tbody tr th:only-of-type {\n",
       "        vertical-align: middle;\n",
       "    }\n",
       "\n",
       "    .dataframe tbody tr th {\n",
       "        vertical-align: top;\n",
       "    }\n",
       "\n",
       "    .dataframe thead th {\n",
       "        text-align: right;\n",
       "    }\n",
       "</style>\n",
       "<table border=\"1\" class=\"dataframe\">\n",
       "  <thead>\n",
       "    <tr style=\"text-align: right;\">\n",
       "      <th></th>\n",
       "      <th>datasetID</th>\n",
       "      <th>minLongitude</th>\n",
       "      <th>maxLongitude</th>\n",
       "      <th>longitudeSpacing</th>\n",
       "      <th>minLatitude</th>\n",
       "      <th>maxLatitude</th>\n",
       "      <th>latitudeSpacing</th>\n",
       "    </tr>\n",
       "  </thead>\n",
       "  <tbody>\n",
       "    <tr>\n",
       "      <th>0</th>\n",
       "      <td>CRW_sst_v1_0</td>\n",
       "      <td>0.025</td>\n",
       "      <td>359.975</td>\n",
       "      <td>0.05</td>\n",
       "      <td>-89.975</td>\n",
       "      <td>89.975</td>\n",
       "      <td>0.05</td>\n",
       "    </tr>\n",
       "  </tbody>\n",
       "</table>\n",
       "</div>"
      ],
      "text/plain": [
       "      datasetID  minLongitude  maxLongitude  longitudeSpacing  minLatitude  \\\n",
       "0  CRW_sst_v1_0         0.025       359.975              0.05      -89.975   \n",
       "\n",
       "   maxLatitude  latitudeSpacing  \n",
       "0       89.975             0.05  "
      ]
     },
     "metadata": {},
     "output_type": "display_data"
    },
    {
     "data": {
      "text/html": [
       "<div>\n",
       "<style scoped>\n",
       "    .dataframe tbody tr th:only-of-type {\n",
       "        vertical-align: middle;\n",
       "    }\n",
       "\n",
       "    .dataframe tbody tr th {\n",
       "        vertical-align: top;\n",
       "    }\n",
       "\n",
       "    .dataframe thead th {\n",
       "        text-align: right;\n",
       "    }\n",
       "</style>\n",
       "<table border=\"1\" class=\"dataframe\">\n",
       "  <thead>\n",
       "    <tr style=\"text-align: right;\">\n",
       "      <th></th>\n",
       "      <th>minAltitude</th>\n",
       "      <th>maxAltitude</th>\n",
       "      <th>minTime</th>\n",
       "      <th>maxTime</th>\n",
       "      <th>timeSpacing</th>\n",
       "    </tr>\n",
       "  </thead>\n",
       "  <tbody>\n",
       "    <tr>\n",
       "      <th>0</th>\n",
       "      <td>NaN</td>\n",
       "      <td>NaN</td>\n",
       "      <td>1985-01-01T12:00:00Z</td>\n",
       "      <td>2020-05-06T12:00:00Z</td>\n",
       "      <td>86400.0</td>\n",
       "    </tr>\n",
       "  </tbody>\n",
       "</table>\n",
       "</div>"
      ],
      "text/plain": [
       "   minAltitude  maxAltitude               minTime               maxTime  \\\n",
       "0          NaN          NaN  1985-01-01T12:00:00Z  2020-05-06T12:00:00Z   \n",
       "\n",
       "   timeSpacing  \n",
       "0      86400.0  "
      ]
     },
     "metadata": {},
     "output_type": "display_data"
    },
    {
     "data": {
      "text/html": [
       "<div>\n",
       "<style scoped>\n",
       "    .dataframe tbody tr th:only-of-type {\n",
       "        vertical-align: middle;\n",
       "    }\n",
       "\n",
       "    .dataframe tbody tr th {\n",
       "        vertical-align: top;\n",
       "    }\n",
       "\n",
       "    .dataframe thead th {\n",
       "        text-align: right;\n",
       "    }\n",
       "</style>\n",
       "<table border=\"1\" class=\"dataframe\">\n",
       "  <thead>\n",
       "    <tr style=\"text-align: right;\">\n",
       "      <th></th>\n",
       "      <th>griddap</th>\n",
       "      <th>variables</th>\n",
       "    </tr>\n",
       "  </thead>\n",
       "  <tbody>\n",
       "    <tr>\n",
       "      <th>0</th>\n",
       "      <td>https://oceanwatch.pifsc.noaa.gov/erddap/gridd...</td>\n",
       "      <td>[analysed_sst, sea_ice_fraction]</td>\n",
       "    </tr>\n",
       "  </tbody>\n",
       "</table>\n",
       "</div>"
      ],
      "text/plain": [
       "                                             griddap  \\\n",
       "0  https://oceanwatch.pifsc.noaa.gov/erddap/gridd...   \n",
       "\n",
       "                          variables  \n",
       "0  [analysed_sst, sea_ice_fraction]  "
      ]
     },
     "metadata": {},
     "output_type": "display_data"
    },
    {
     "name": "stdout",
     "output_type": "stream",
     "text": [
      "Metadata helpful for this project are listed below\n",
      " \n",
      "Time Range: 1985-01-01 to 2020-05-06\n",
      "Data Variables: ['analysed_sst', 'sea_ice_fraction']\n",
      "Direct dataset URL: https://oceanwatch.pifsc.noaa.gov/erddap/griddap/CRW_sst_v1_0\n"
     ]
    }
   ],
   "source": [
    "dataset_info = get_dataset_info(my_erddap_location, my_ds_ID)\n",
    "\n",
    "display(dataset_info.loc[:, 'datasetID':'latitudeSpacing'])\n",
    "display(dataset_info.loc[:, 'minAltitude':'timeSpacing'])\n",
    "display(dataset_info.loc[:, 'griddap':'variables'])\n",
    "\n",
    "print(\"Metadata helpful for this project are listed below\")\n",
    "print(\" \")\n",
    "print('Time Range:', dataset_info.minTime[0][:10], 'to', dataset_info.maxTime[0][:10] )\n",
    "print('Data Variables:', dataset_info.variables[0] )\n",
    "print('Direct dataset URL:', dataset_info.griddap[0]) "
   ]
  },
  {
   "cell_type": "markdown",
   "metadata": {},
   "source": [
    "## Create a virtual buoy with ERDDAP\n",
    "We can make a virtual buoy very quickly using the ERDDAP visualization (make a graph) interface.   \n",
    "\n",
    "### Selecting a dataset and generating a timeseries\n",
    "\n",
    "A good dataset for sea surface temperature (SST) is the NOAA Coral Reef Watch Blended SST dataset. It blends together many satellite sensors to obtain good daily coverage of the globe, and then uses an interpellation method to fill in data gaps. On a separate  can view the dataset on the ERDDAP interface (ERDDAP ID: `CRW_sst_v1_0`). Click on the following link to go to the ERDDAP visualization page for the dataset:  \n",
    "https://oceanwatch.pifsc.noaa.gov/erddap/griddap/CRW_sst_v1_0.graph \n",
    "\n",
    "The NBDC buoy is located at 34.767N latitude and the 238.505E longitude, so we will use those coordinates to view and download data from ERDDAP. Please review the ERDDAP basics tutorial for a refresher on using ERDDAP. \n",
    "\n",
    "__On the ERDDAP visualization interface, do the following:__  \n",
    "* Set the `Graph Type` to linsAndMarkers\n",
    "* Set the `X Axis` to `time` and the `Y Axis` to `analysed_sst`\n",
    "* On the time (UTC) widget, set ` Start` to the Jan. 1, 2020 (`2020-01-01T12:00:00Z`) and the `Stop` to the most recent date (`2020-04-01T12:00:00Z` at the time time of this writing).\n",
    "* Set the `latitude (degrees_north)` to `34.767`, the latitude of our buoy, and the `longitude (degrees_east)` to `238.505`, the longitude of our buoy. \n",
    "* Click `Redraw the Graph`  \n",
    "* For a review of how to use the ERDDAP data server, please see this online tutorial:\n",
    "https://coastwatch.pfeg.noaa.gov/projects/erddap/\n",
    "\n",
    "The data for the virtual buoy will be displayed in the interface:\n",
    "<img src=\"https://oceanwatch.pifsc.noaa.gov/erddap/griddap/CRW_sst_v1_0.png?analysed_sst%5B(2020-01-01T12:00:00Z):(2020-05-06T12:00:00Z)%5D%5B(34.775)%5D%5B(238.525)%5D&.draw=linesAndMarkers&.vars=time%7Canalysed_sst%7C&.marker=5%7C5&.color=0x000000&.colorBar=%7C%7C%7C%7C%7C&.bgColor=0xffffffff\">\n",
    "\n",
    "### You are finished making a virtual buoy!   \n",
    "\n",
    "This is your virtual buoy. If you wanted, you could get to produce an image for you to put on your virtual buoy website. However, you probably want to bring the data into Python to make better plots and to go through some validation steps.  \n"
   ]
  },
  {
   "cell_type": "markdown",
   "metadata": {},
   "source": [
    "## Load the virtual buoy data into Python  \n",
    "Let's download the virtual buoy data directly from ERDDAP and into Python   \n",
    "\n",
    "### Generate the ERDDAP data request URL for the data   \n",
    "* Go to the ERDDAP visualization page for where you created the virtual buoy. \n",
    "* Near the top of the ERDDAP interface, click the `Data Access Form` link. Clicking brings you to a new page where you can refine your data request. Our goal on this page is to obtain the data request URL to download the data as a CSV file. \n",
    "* Find the `File type:` dropdown and select `.csv`. Then push the \"Just `generate the URL button` and copy the link in the box to the right for th button. \n",
    "\n",
    "__The data request URL should look like the following URL:__   \n",
    ">https://oceanwatch.pifsc.noaa.gov/erddap/griddap/CRW_sst_v1_0.csv?analysed_sst[(2020-01-01T12:00:00Z):1:(2020-05-06T12:00:00Z)][(34.775):1:(34.775)][(238.525):1:(238.525)]   \n",
    "\n",
    "__Getting the most up-to-date data__  \n",
    "At the time this tutorial was written, the most recent date was `2020-04-01T12:00:00Z` (April 1, 2020). However, you may be using the tutorial months later, so hardwiring `2020-04-01T12:00:00Z` into the URL will not give you the most recent data. We can use an ERDDAP trick to fix this problem. By changing the the most recent date (`2020-04-01T12:00:00Z`) to `last`, you will request to most recent data. The new URL looks like the following:  \n",
    ">https://oceanwatch.pifsc.noaa.gov/erddap/griddap/CRW_sst_v1_0.csv?analysed_sst[(2020-01-01T12:00:00Z):1:(last)][(34.775):1:(34.775)][(238.525):1:(238.525)]  \n",
    "\n",
    "__Bring the data into a Pandas data frame__  \n",
    "You could put this URL directly into a browser and the CSV data file would download to your computer, but we will bring it directly into Python as a Pandas data frame.\n",
    "\n",
    "### Create a function to load the CSV data into Pandas  \n",
    "We will be making several request to the ERDDAP server for CSV data that we will put into Pandas. Creating a function will save repeating the same code over again. Instead, just call the function.   "
   ]
  },
  {
   "cell_type": "code",
   "execution_count": 24,
   "metadata": {},
   "outputs": [],
   "source": [
    "# import the needed modules\n",
    "\n",
    "def get_csvdata(erddapURL):\n",
    "    \n",
    "    '''\n",
    "    The requests module allows you to send a HTTP (URL) request,\n",
    "    that returns a Response Object with all the response \n",
    "    data (content, encoding, status...)\n",
    "    '''\n",
    "    response = requests.get(erddapURL).content\n",
    "    \n",
    "    '''\n",
    "    The StringIO class of the io module creates a file-like object \n",
    "    or memory file from the request response. \n",
    "    \n",
    "    The decode function decodes the request response from \n",
    "    its 'utf-8' URL encoding.\n",
    "    \n",
    "    The Pandas (pd) read_csv function imports the csv data \n",
    "    from the request response into a Pandas dataframe. \n",
    "    \n",
    "    A CSV file from ERDDAP has the column headers in the \n",
    "    first row and the units in the second row. The read_csv \n",
    "    function assumes the header is on the first row. \n",
    "    skiprows=[1] (below) tells read_csv to import row 0 as the header, \n",
    "    then skip row 1 and import the data starting on row 2.\n",
    "    '''\n",
    "    my_df = pd.read_csv(io.StringIO(response.decode('utf-8')), skiprows=[1])\n",
    "    \n",
    "    return my_df"
   ]
  },
  {
   "cell_type": "markdown",
   "metadata": {},
   "source": [
    "### Use the function to create the Pandas data frame with Virtual Buoy data\n",
    "The beginning of the resulting is printed below."
   ]
  },
  {
   "cell_type": "code",
   "execution_count": 25,
   "metadata": {},
   "outputs": [
    {
     "data": {
      "text/html": [
       "<div>\n",
       "<style scoped>\n",
       "    .dataframe tbody tr th:only-of-type {\n",
       "        vertical-align: middle;\n",
       "    }\n",
       "\n",
       "    .dataframe tbody tr th {\n",
       "        vertical-align: top;\n",
       "    }\n",
       "\n",
       "    .dataframe thead th {\n",
       "        text-align: right;\n",
       "    }\n",
       "</style>\n",
       "<table border=\"1\" class=\"dataframe\">\n",
       "  <thead>\n",
       "    <tr style=\"text-align: right;\">\n",
       "      <th></th>\n",
       "      <th>time</th>\n",
       "      <th>latitude</th>\n",
       "      <th>longitude</th>\n",
       "      <th>analysed_sst</th>\n",
       "    </tr>\n",
       "  </thead>\n",
       "  <tbody>\n",
       "    <tr>\n",
       "      <th>0</th>\n",
       "      <td>2020-01-01T12:00:00Z</td>\n",
       "      <td>34.775</td>\n",
       "      <td>238.525</td>\n",
       "      <td>14.09</td>\n",
       "    </tr>\n",
       "    <tr>\n",
       "      <th>1</th>\n",
       "      <td>2020-01-02T12:00:00Z</td>\n",
       "      <td>34.775</td>\n",
       "      <td>238.525</td>\n",
       "      <td>13.84</td>\n",
       "    </tr>\n",
       "    <tr>\n",
       "      <th>2</th>\n",
       "      <td>2020-01-03T12:00:00Z</td>\n",
       "      <td>34.775</td>\n",
       "      <td>238.525</td>\n",
       "      <td>13.79</td>\n",
       "    </tr>\n",
       "    <tr>\n",
       "      <th>3</th>\n",
       "      <td>2020-01-04T12:00:00Z</td>\n",
       "      <td>34.775</td>\n",
       "      <td>238.525</td>\n",
       "      <td>14.01</td>\n",
       "    </tr>\n",
       "    <tr>\n",
       "      <th>4</th>\n",
       "      <td>2020-01-05T12:00:00Z</td>\n",
       "      <td>34.775</td>\n",
       "      <td>238.525</td>\n",
       "      <td>13.87</td>\n",
       "    </tr>\n",
       "  </tbody>\n",
       "</table>\n",
       "</div>"
      ],
      "text/plain": [
       "                   time  latitude  longitude  analysed_sst\n",
       "0  2020-01-01T12:00:00Z    34.775    238.525         14.09\n",
       "1  2020-01-02T12:00:00Z    34.775    238.525         13.84\n",
       "2  2020-01-03T12:00:00Z    34.775    238.525         13.79\n",
       "3  2020-01-04T12:00:00Z    34.775    238.525         14.01\n",
       "4  2020-01-05T12:00:00Z    34.775    238.525         13.87"
      ]
     },
     "execution_count": 25,
     "metadata": {},
     "output_type": "execute_result"
    }
   ],
   "source": [
    "erddap_data_request = 'https://oceanwatch.pifsc.noaa.gov/erddap/griddap/CRW_sst_v1_0.csv?analysed_sst[(2020-01-01T12:00:00Z):1:(last)][(34.775):1:(34.775)][(238.525):1:(238.525)]'\n",
    "# print(erddap_data_request, 'a')\n",
    "vir_buoy_df = get_csvdata(erddap_data_request)\n",
    "\n",
    "# The head method prints out just the top 5 lines of the dataframe\n",
    "vir_buoy_df.head()"
   ]
  },
  {
   "cell_type": "markdown",
   "metadata": {},
   "source": [
    "### Clean up the data  \n",
    "__The latitude and longitude columns are repetitious.__   \n",
    "\n",
    "1. Store the latitude and longitude values in a dictionary.  \n",
    " \n",
    "\n",
    "2. Remove the latitude and longitude columns from the data frame with the Panda drop() function. The drop() function removes rows or columns by specifying label names and the axis containing the labels.    \n",
    "\n",
    "\n",
    "* The first argument is the column to drop, by name. \n",
    "* The axis argument indicates if the name is a `row` (0) or a `column` (1). \n",
    "* The argument inplace=True argument applies the row or column deletion to the data frame in use (e.g. vir_buoy_df in this case). By default (inplace=False), a new dataframe would be created.  \n"
   ]
  },
  {
   "cell_type": "code",
   "execution_count": 26,
   "metadata": {},
   "outputs": [
    {
     "data": {
      "text/html": [
       "<div>\n",
       "<style scoped>\n",
       "    .dataframe tbody tr th:only-of-type {\n",
       "        vertical-align: middle;\n",
       "    }\n",
       "\n",
       "    .dataframe tbody tr th {\n",
       "        vertical-align: top;\n",
       "    }\n",
       "\n",
       "    .dataframe thead th {\n",
       "        text-align: right;\n",
       "    }\n",
       "</style>\n",
       "<table border=\"1\" class=\"dataframe\">\n",
       "  <thead>\n",
       "    <tr style=\"text-align: right;\">\n",
       "      <th></th>\n",
       "      <th>time</th>\n",
       "      <th>analysed_sst</th>\n",
       "    </tr>\n",
       "  </thead>\n",
       "  <tbody>\n",
       "    <tr>\n",
       "      <th>0</th>\n",
       "      <td>2020-01-01T12:00:00Z</td>\n",
       "      <td>14.09</td>\n",
       "    </tr>\n",
       "    <tr>\n",
       "      <th>1</th>\n",
       "      <td>2020-01-02T12:00:00Z</td>\n",
       "      <td>13.84</td>\n",
       "    </tr>\n",
       "    <tr>\n",
       "      <th>2</th>\n",
       "      <td>2020-01-03T12:00:00Z</td>\n",
       "      <td>13.79</td>\n",
       "    </tr>\n",
       "    <tr>\n",
       "      <th>3</th>\n",
       "      <td>2020-01-04T12:00:00Z</td>\n",
       "      <td>14.01</td>\n",
       "    </tr>\n",
       "    <tr>\n",
       "      <th>4</th>\n",
       "      <td>2020-01-05T12:00:00Z</td>\n",
       "      <td>13.87</td>\n",
       "    </tr>\n",
       "  </tbody>\n",
       "</table>\n",
       "</div>"
      ],
      "text/plain": [
       "                   time  analysed_sst\n",
       "0  2020-01-01T12:00:00Z         14.09\n",
       "1  2020-01-02T12:00:00Z         13.84\n",
       "2  2020-01-03T12:00:00Z         13.79\n",
       "3  2020-01-04T12:00:00Z         14.01\n",
       "4  2020-01-05T12:00:00Z         13.87"
      ]
     },
     "execution_count": 26,
     "metadata": {},
     "output_type": "execute_result"
    }
   ],
   "source": [
    "# location of the buoy \n",
    "buoy_location = {'lat':vir_buoy_df.iloc[ 1 , : ].loc['latitude' ],\n",
    "                 'lon':vir_buoy_df.iloc[ 1 , : ].loc['longitude' ]\n",
    "                }\n",
    "\n",
    "# Drop the latitude and longitude columns\n",
    "vir_buoy_df.drop('latitude', axis=1, inplace=True)\n",
    "vir_buoy_df.drop('longitude', axis=1, inplace=True)\n",
    "vir_buoy_df.head()"
   ]
  },
  {
   "cell_type": "markdown",
   "metadata": {},
   "source": [
    "## Visualize the virtual buoy data from the satellite\n",
    "Use the matplotlib python library. There are many ways to use matplotlib to plot data. Below is a simple approach. \n",
    ">Documentation for matplotlib can be found here: https://matplotlib.org"
   ]
  },
  {
   "cell_type": "code",
   "execution_count": 27,
   "metadata": {},
   "outputs": [
    {
     "data": {
      "image/png": "[encoded data removed]",
      "text/plain": [
       "<Figure size 432x288 with 1 Axes>"
      ]
     },
     "metadata": {
      "needs_background": "light"
     },
     "output_type": "display_data"
    }
   ],
   "source": [
    "#Import the needed modules\n",
    "import matplotlib.pyplot as plt\n",
    "import matplotlib.dates as mdates\n",
    "\n",
    "# the %matplotlib is a magic function allow displaying results in notebooks\n",
    "%matplotlib inline\n",
    "\n",
    "# some tools for Pandas to work will with matplotlib\n",
    "from pandas.plotting import register_matplotlib_converters\n",
    "register_matplotlib_converters()\n",
    "\n",
    "# Create the figure and give it a size\n",
    "fig = plt.figure(figsize=(6, 4))\n",
    "\n",
    "# add a subplot\n",
    "ax = fig.add_subplot()\n",
    "\n",
    "# Assign the x and y data, \n",
    "#    i.e. pd.to_datetime(vir_buoy_df.time), vir_buoy_df.analysed_sst\n",
    "#    pd.to_datetime changes the datestamp into a date objest\n",
    "# Design the look of the plots\n",
    "#    color the plot, color='green'\n",
    "#    define the marker shape: marker='o' is a filled circle\n",
    "#        e.g. '+' are pluses\n",
    "#    define the line type shape: linestyle='-'\n",
    "#        e.g. '--' is dashed, '-.' is dash-dot\n",
    "ax.plot(pd.to_datetime(vir_buoy_df.time), vir_buoy_df.analysed_sst,\n",
    "        color='green', marker='o', linestyle='-')\n",
    "\n",
    "# format the date for the x axis and autoformat\n",
    "ax.format_xdata = mdates.DateFormatter('%Y-%m-%d')\n",
    "\n",
    "# set the axis labels\n",
    "ax.set_xlabel(\"Date\")\n",
    "ax.set_ylabel(\"Virtual Buoy SST (degrees C)\")\n",
    "fig.autofmt_xdate()\n"
   ]
  },
  {
   "cell_type": "markdown",
   "metadata": {},
   "source": [
    "## Validate the Virtual Buoy measurements\n",
    "How confident are we that the virtual buoy measurement are similar to the buoy measurements? Validating or groundtruthing the virtual buoy data is an important step to be certain that your virtual buoy is accurate. Since both the buoy and the satellite data extend back in time before 2020, we can compare a few years of data (2017-2019) from both datastream to determine how well they correlate.    \n",
    "\n",
    "To do that, we will do the following:\n",
    "* Download the data from NDBC buoy #49259 for the time period between Jan 1, 2017 and December 31, 2019.  \n",
    "* Download the data from the satellite SST dataset for the time period same time period.  \n",
    "* Evaluate, both visually and statistically, how close the two data stream are two one another.  "
   ]
  },
  {
   "cell_type": "markdown",
   "metadata": {},
   "source": [
    "### Download the data from NDBC buoy\n",
    "\n",
    "#### Load the buoy data for 2017-2019 \n",
    "\n",
    "* The data for 2017-2016 has been made available for you already in a CSV file (buoy_49259_2016_2019.csv).  \n",
    "* If you prefer, you can get the data yourself via the NBDC website.  \n",
    "https://www.ndbc.noaa.gov/download_data.php?filename=46259h2017.txt.gz&dir=data/historical/stdmet/  \n",
    "Steps on how to get the data with Python are included in Appendix A"
   ]
  },
  {
   "cell_type": "code",
   "execution_count": 28,
   "metadata": {},
   "outputs": [
    {
     "name": "stdout",
     "output_type": "stream",
     "text": [
      "# of timesteps = 50900\n"
     ]
    },
    {
     "data": {
      "text/html": [
       "<div>\n",
       "<style scoped>\n",
       "    .dataframe tbody tr th:only-of-type {\n",
       "        vertical-align: middle;\n",
       "    }\n",
       "\n",
       "    .dataframe tbody tr th {\n",
       "        vertical-align: top;\n",
       "    }\n",
       "\n",
       "    .dataframe thead th {\n",
       "        text-align: right;\n",
       "    }\n",
       "</style>\n",
       "<table border=\"1\" class=\"dataframe\">\n",
       "  <thead>\n",
       "    <tr style=\"text-align: right;\">\n",
       "      <th></th>\n",
       "      <th>Time</th>\n",
       "      <th>WTMP_degC</th>\n",
       "    </tr>\n",
       "  </thead>\n",
       "  <tbody>\n",
       "    <tr>\n",
       "      <th>0</th>\n",
       "      <td>2017-01-01 00:00:00</td>\n",
       "      <td>13.1</td>\n",
       "    </tr>\n",
       "    <tr>\n",
       "      <th>1</th>\n",
       "      <td>2017-01-01 00:30:00</td>\n",
       "      <td>13.0</td>\n",
       "    </tr>\n",
       "    <tr>\n",
       "      <th>2</th>\n",
       "      <td>2017-01-01 01:00:00</td>\n",
       "      <td>13.0</td>\n",
       "    </tr>\n",
       "    <tr>\n",
       "      <th>3</th>\n",
       "      <td>2017-01-01 01:30:00</td>\n",
       "      <td>13.0</td>\n",
       "    </tr>\n",
       "    <tr>\n",
       "      <th>4</th>\n",
       "      <td>2017-01-01 02:00:00</td>\n",
       "      <td>13.0</td>\n",
       "    </tr>\n",
       "  </tbody>\n",
       "</table>\n",
       "</div>"
      ],
      "text/plain": [
       "                 Time  WTMP_degC\n",
       "0 2017-01-01 00:00:00       13.1\n",
       "1 2017-01-01 00:30:00       13.0\n",
       "2 2017-01-01 01:00:00       13.0\n",
       "3 2017-01-01 01:30:00       13.0\n",
       "4 2017-01-01 02:00:00       13.0"
      ]
     },
     "execution_count": 28,
     "metadata": {},
     "output_type": "execute_result"
    }
   ],
   "source": [
    "# load the buoy data file into a Pandas data frame and view\n",
    "buoy_data = pd.read_csv('data/buoy_46259_2017_2019.csv', parse_dates=['Time'])\n",
    "#buoy_data['Time'] = buoy_data['Time'].dt.date\n",
    "print('# of timesteps =', buoy_data.shape[0] )\n",
    "buoy_data.head()\n"
   ]
  },
  {
   "cell_type": "markdown",
   "metadata": {},
   "source": [
    "#### Plot the full resolution buoy data  \n",
    "Use a slightly different method to plot the data than we used above. The graph below uses the plot() function, which is an integration of the `matplotlib` library into Pandas."
   ]
  },
  {
   "cell_type": "code",
   "execution_count": 29,
   "metadata": {},
   "outputs": [
    {
     "data": {
      "text/plain": [
       "[<matplotlib.lines.Line2D at 0x7fe1396133c8>]"
      ]
     },
     "execution_count": 29,
     "metadata": {},
     "output_type": "execute_result"
    },
    {
     "data": {
      "image/png": "[encoded data removed]",
      "text/plain": [
       "<Figure size 864x288 with 1 Axes>"
      ]
     },
     "metadata": {
      "needs_background": "light"
     },
     "output_type": "display_data"
    }
   ],
   "source": [
    "plt.figure(figsize=(12, 4))\n",
    "plt.ylim(12, 20)\n",
    "plt.xlabel(\"Date\")\n",
    "plt.ylabel(\"Buoy SST (degrees C)\")\n",
    "plt.plot(buoy_data.Time, buoy_data.WTMP_degC)"
   ]
  },
  {
   "cell_type": "markdown",
   "metadata": {},
   "source": [
    "### Resample the buoy data\n",
    "The sampling resolution for the buoy data is a sample every 30 minutes. However, the temporal resolution for the satellite dataset is daily. Pandas makes it easy the downsample the 30 minute buoy data to create daily bins of the data that match the temporal resolution of the satellite.   \n",
    "\n",
    "Use the Pandas `resample` method (below) to generate daily means.  \n",
    "* The \"D\" is the resampling rule that sets the resampling interval. Here, \"D\" indicates resampling into daily bins. Similarly, using \"3D\" would resample into three-day bin and \"M\" would resample into monthly bins. \n",
    "* `on='Time'` identifies the column with the Pandas datetime data.  \n",
    "* `.mean()` defines the math operation to be preformed on the daily bins.\n",
    "* An overview of the resample method can be found here: https://pandas.pydata.org/pandas-docs/stable/user_guide/timeseries.html#resampling  "
   ]
  },
  {
   "cell_type": "code",
   "execution_count": 30,
   "metadata": {},
   "outputs": [
    {
     "name": "stdout",
     "output_type": "stream",
     "text": [
      "# of timesteps before = 50900\n",
      "# of timesteps after = 1095\n"
     ]
    },
    {
     "data": {
      "text/html": [
       "<div>\n",
       "<style scoped>\n",
       "    .dataframe tbody tr th:only-of-type {\n",
       "        vertical-align: middle;\n",
       "    }\n",
       "\n",
       "    .dataframe tbody tr th {\n",
       "        vertical-align: top;\n",
       "    }\n",
       "\n",
       "    .dataframe thead th {\n",
       "        text-align: right;\n",
       "    }\n",
       "</style>\n",
       "<table border=\"1\" class=\"dataframe\">\n",
       "  <thead>\n",
       "    <tr style=\"text-align: right;\">\n",
       "      <th></th>\n",
       "      <th>WTMP_degC</th>\n",
       "    </tr>\n",
       "    <tr>\n",
       "      <th>Time</th>\n",
       "      <th></th>\n",
       "    </tr>\n",
       "  </thead>\n",
       "  <tbody>\n",
       "    <tr>\n",
       "      <th>2017-01-01</th>\n",
       "      <td>13.120833</td>\n",
       "    </tr>\n",
       "    <tr>\n",
       "      <th>2017-01-02</th>\n",
       "      <td>13.110417</td>\n",
       "    </tr>\n",
       "    <tr>\n",
       "      <th>2017-01-03</th>\n",
       "      <td>12.970833</td>\n",
       "    </tr>\n",
       "    <tr>\n",
       "      <th>2017-01-04</th>\n",
       "      <td>12.912500</td>\n",
       "    </tr>\n",
       "    <tr>\n",
       "      <th>2017-01-05</th>\n",
       "      <td>12.968750</td>\n",
       "    </tr>\n",
       "  </tbody>\n",
       "</table>\n",
       "</div>"
      ],
      "text/plain": [
       "            WTMP_degC\n",
       "Time                 \n",
       "2017-01-01  13.120833\n",
       "2017-01-02  13.110417\n",
       "2017-01-03  12.970833\n",
       "2017-01-04  12.912500\n",
       "2017-01-05  12.968750"
      ]
     },
     "execution_count": 30,
     "metadata": {},
     "output_type": "execute_result"
    }
   ],
   "source": [
    "print('# of timesteps before =', buoy_data.shape[0] )\n",
    "\n",
    "buoy_data_resampled = buoy_data.resample('D', on='Time').mean()\n",
    "print('# of timesteps after =', buoy_data_resampled.shape[0] )\n",
    "\n",
    "buoy_data_resampled.head()"
   ]
  },
  {
   "cell_type": "markdown",
   "metadata": {},
   "source": [
    "*Note 1: The resampled data frame (above) contains mean daily values. The \"Time\" column is now the index (first) column and it is in the Timestamp (datetime64) format.*   \n",
    "\n",
    "*Note 2: The length the the data frame (# of time steps) is 1398.*   \n",
    "\n",
    "### Clean up the data\n",
    "The data is likely to contain data points that are outliers and that contain no data. Let's remove those points from the data frame. \n",
    "* Apply a conservative allowable data range. \n",
    " * For the lower end of the range, the freezing point of seawater (ca. -2).  \n",
    " * For the high end of the range, value unlikely to be seen in the area of interest (e.g. 45 degrees C). "
   ]
  },
  {
   "cell_type": "code",
   "execution_count": 31,
   "metadata": {},
   "outputs": [
    {
     "name": "stdout",
     "output_type": "stream",
     "text": [
      "# of timesteps before cleaning = 1095\n",
      "# of timesteps after cleaning = 1091\n",
      "4 times were removed\n"
     ]
    }
   ],
   "source": [
    "# Get # of timesteps before cleaning\n",
    "b4 = buoy_data_resampled.shape[0] \n",
    "print('# of timesteps before cleaning =', b4 )\n",
    "\n",
    "# Extract the temperature data into a data frame\n",
    "y = buoy_data_resampled['WTMP_degC']\n",
    "\n",
    "# Find the data that is within our acceptable range\n",
    "removed_outliers = y.between(-2, 45)\n",
    "\n",
    "# Invert the results of removed_outliers to get the \n",
    "#   indices of the values outside of the acceptable range \n",
    "index_names = buoy_data_resampled[~removed_outliers].index\n",
    "\n",
    "# Drop values outside of the acceptable range from the data frame \n",
    "buoy_data_resampled.drop(index_names, inplace=True)\n",
    "print('# of timesteps after cleaning =', buoy_data_resampled.shape[0] )\n",
    "print(b4-buoy_data_resampled.shape[0], 'times were removed')\n",
    "# buoy_data_resampled.head()"
   ]
  },
  {
   "cell_type": "markdown",
   "metadata": {},
   "source": [
    "__Note that the length the the data frame (# of time steps) went from 1095 to 1091, i.e. four timesteps were outside of the acceptable time range, and they were removed__.    \n",
    "\n",
    "\n",
    "### Plot the results for the downsampled buoy data.  \n",
    "__First use the matplotlib library__\n"
   ]
  },
  {
   "cell_type": "code",
   "execution_count": 32,
   "metadata": {},
   "outputs": [
    {
     "data": {
      "text/plain": [
       "[<matplotlib.lines.Line2D at 0x7fe0f81a60f0>]"
      ]
     },
     "execution_count": 32,
     "metadata": {},
     "output_type": "execute_result"
    },
    {
     "data": {
      "image/png": "[encoded data removed]",
      "text/plain": [
       "<Figure size 864x288 with 1 Axes>"
      ]
     },
     "metadata": {
      "needs_background": "light"
     },
     "output_type": "display_data"
    }
   ],
   "source": [
    "plt.figure(figsize=(12, 4))\n",
    "\n",
    "plt.ylim(12, 20)\n",
    "plt.plot(buoy_data_resampled.index, buoy_data_resampled.WTMP_degC, \"b\")\n",
    "\n",
    "# plt.plot(pd.to_datetime(c.time), c.analysed_sst, 'ro', buoy_data_resampled.time_oj, buoy_data_resampled.WTMP_degC)"
   ]
  },
  {
   "cell_type": "markdown",
   "metadata": {},
   "source": [
    "__Or try using the plot() function from Pandas.__"
   ]
  },
  {
   "cell_type": "code",
   "execution_count": 33,
   "metadata": {},
   "outputs": [
    {
     "data": {
      "text/plain": [
       "<matplotlib.axes._subplots.AxesSubplot at 0x7fe118fd8358>"
      ]
     },
     "execution_count": 33,
     "metadata": {},
     "output_type": "execute_result"
    },
    {
     "data": {
      "image/png": "[encoded data removed]",
      "text/plain": [
       "<Figure size 864x288 with 1 Axes>"
      ]
     },
     "metadata": {
      "needs_background": "light"
     },
     "output_type": "display_data"
    }
   ],
   "source": [
    "buoy_data_resampled.plot(figsize=(12, 4))"
   ]
  },
  {
   "cell_type": "markdown",
   "metadata": {},
   "source": [
    "### Download the data from the NOAA Coral Reef Watch Blended SST dataset\n",
    "#### Query ERDDAP for information about the satellite dataset   \n",
    "We will continue to use the NOAA Coral Reef Watch blended SST dataset to validate the virtual buoy. ERDDAP has a feature that allows you to select and download metadata about any and all datasets. The user interface for this feature is at the following URL: https://oceanwatch.pifsc.noaa.gov/erddap/tabledap/allDatasets.html.   \n",
    "Like all data in ERDDAP, even metadata, the values can be downloaded via a URL-based data request. Details about the feature are presented in the ERDDAP tutorial. For the purposes of this exercise, it is enough to know that we are pulling the metadata from this page into a CSV file and using it in Python\n",
    "\n",
    "__Build a function to harvest metadata from ERDDAP__  \n",
    "\n",
    "* The function builds the URL-based data request, sends the request to ERDDAP for the metadata, and loads the results into a Pandas data frame.\n",
    "* The function also uses the xarray module in OpenDAP mode to obtain a list of data variables.\n",
    "* Inputs to the function are \n",
    " 1. The location of the ERDDAP on the internet: The NOAA Coral Reef Watch Blended SST dataset can be found on the CoastWatch Central Pacific Node ERDDAP at this URL: `https://oceanwatch.pifsc.noaa.gov/erddap`\n",
    " 2. The unique ERDDAP ID for the dataset: For the NOAA Coral Reef Watch blended SST dataset the ID is `CRW_sst_v1_0`"
   ]
  },
  {
   "cell_type": "code",
   "execution_count": 34,
   "metadata": {},
   "outputs": [],
   "source": [
    "# Variable containing the WCN ERDDAP URL\n",
    "my_erddap_location = 'https://oceanwatch.pifsc.noaa.gov/erddap'\n",
    "\n",
    "# The dataset ID for NOAA Coral Reef Watch blended SST \n",
    "my_ds_ID = 'CRW_sst_v1_0'\n",
    "\n",
    "# A function to form the metadata request URL and \n",
    "# download the metadata into a Pandas data frame\n",
    "def get_dataset_info(erddapURL, datasetID):\n",
    "    queryURL = \"\".join(['?datasetID,minLongitude,maxLongitude,longitudeSpacing,minLatitude,maxLatitude,latitudeSpacing,', \n",
    "                        'minAltitude,maxAltitude,', \n",
    "                        'minTime,maxTime,timeSpacing,griddap&datasetID=\"'])\n",
    "    \n",
    "    # Form the base URL leading to the allDatasets page\n",
    "    baseURL = os.path.join(erddapURL, \"tabledap\", \"allDatasets.csv\")\n",
    "    \n",
    "    # Form the data query part of the URL. \n",
    "    # For this exercise we will only request: \n",
    "    # 1) dataset ID, \n",
    "    # 2) the distance between values longitude values, \n",
    "    # 3) the minimum and maximum latitude, and the distance between values\n",
    "    # 4) the minimum and maximum altitude values\n",
    "    # 5) the minimum and maximum and time between time values\n",
    "    fullURL = ''.join([baseURL, queryURL, datasetID,'\"'])\n",
    "    \n",
    "    s=requests.get(fullURL).content\n",
    "    c=pd.read_csv(io.StringIO(s.decode('utf-8')), skiprows=[1])\n",
    "    \n",
    "    #print(c.griddap[0])\n",
    "    # get the data variables using xarray via OpenDAP \n",
    "    c['variables'] = [list(xr.open_dataset(c.griddap[0]).data_vars)]\n",
    "    return c\n"
   ]
  },
  {
   "cell_type": "markdown",
   "metadata": {},
   "source": [
    "__Now run the function the function to obtain information about the dataset__"
   ]
  },
  {
   "cell_type": "code",
   "execution_count": 35,
   "metadata": {},
   "outputs": [
    {
     "data": {
      "text/html": [
       "<div>\n",
       "<style scoped>\n",
       "    .dataframe tbody tr th:only-of-type {\n",
       "        vertical-align: middle;\n",
       "    }\n",
       "\n",
       "    .dataframe tbody tr th {\n",
       "        vertical-align: top;\n",
       "    }\n",
       "\n",
       "    .dataframe thead th {\n",
       "        text-align: right;\n",
       "    }\n",
       "</style>\n",
       "<table border=\"1\" class=\"dataframe\">\n",
       "  <thead>\n",
       "    <tr style=\"text-align: right;\">\n",
       "      <th></th>\n",
       "      <th>datasetID</th>\n",
       "      <th>minLongitude</th>\n",
       "      <th>maxLongitude</th>\n",
       "      <th>longitudeSpacing</th>\n",
       "      <th>minLatitude</th>\n",
       "      <th>maxLatitude</th>\n",
       "      <th>latitudeSpacing</th>\n",
       "    </tr>\n",
       "  </thead>\n",
       "  <tbody>\n",
       "    <tr>\n",
       "      <th>0</th>\n",
       "      <td>CRW_sst_v1_0</td>\n",
       "      <td>0.025</td>\n",
       "      <td>359.975</td>\n",
       "      <td>0.05</td>\n",
       "      <td>-89.975</td>\n",
       "      <td>89.975</td>\n",
       "      <td>0.05</td>\n",
       "    </tr>\n",
       "  </tbody>\n",
       "</table>\n",
       "</div>"
      ],
      "text/plain": [
       "      datasetID  minLongitude  maxLongitude  longitudeSpacing  minLatitude  \\\n",
       "0  CRW_sst_v1_0         0.025       359.975              0.05      -89.975   \n",
       "\n",
       "   maxLatitude  latitudeSpacing  \n",
       "0       89.975             0.05  "
      ]
     },
     "metadata": {},
     "output_type": "display_data"
    },
    {
     "data": {
      "text/html": [
       "<div>\n",
       "<style scoped>\n",
       "    .dataframe tbody tr th:only-of-type {\n",
       "        vertical-align: middle;\n",
       "    }\n",
       "\n",
       "    .dataframe tbody tr th {\n",
       "        vertical-align: top;\n",
       "    }\n",
       "\n",
       "    .dataframe thead th {\n",
       "        text-align: right;\n",
       "    }\n",
       "</style>\n",
       "<table border=\"1\" class=\"dataframe\">\n",
       "  <thead>\n",
       "    <tr style=\"text-align: right;\">\n",
       "      <th></th>\n",
       "      <th>minAltitude</th>\n",
       "      <th>maxAltitude</th>\n",
       "      <th>minTime</th>\n",
       "      <th>maxTime</th>\n",
       "      <th>timeSpacing</th>\n",
       "    </tr>\n",
       "  </thead>\n",
       "  <tbody>\n",
       "    <tr>\n",
       "      <th>0</th>\n",
       "      <td>NaN</td>\n",
       "      <td>NaN</td>\n",
       "      <td>1985-01-01T12:00:00Z</td>\n",
       "      <td>2020-05-06T12:00:00Z</td>\n",
       "      <td>86400.0</td>\n",
       "    </tr>\n",
       "  </tbody>\n",
       "</table>\n",
       "</div>"
      ],
      "text/plain": [
       "   minAltitude  maxAltitude               minTime               maxTime  \\\n",
       "0          NaN          NaN  1985-01-01T12:00:00Z  2020-05-06T12:00:00Z   \n",
       "\n",
       "   timeSpacing  \n",
       "0      86400.0  "
      ]
     },
     "metadata": {},
     "output_type": "display_data"
    },
    {
     "data": {
      "text/html": [
       "<div>\n",
       "<style scoped>\n",
       "    .dataframe tbody tr th:only-of-type {\n",
       "        vertical-align: middle;\n",
       "    }\n",
       "\n",
       "    .dataframe tbody tr th {\n",
       "        vertical-align: top;\n",
       "    }\n",
       "\n",
       "    .dataframe thead th {\n",
       "        text-align: right;\n",
       "    }\n",
       "</style>\n",
       "<table border=\"1\" class=\"dataframe\">\n",
       "  <thead>\n",
       "    <tr style=\"text-align: right;\">\n",
       "      <th></th>\n",
       "      <th>griddap</th>\n",
       "      <th>variables</th>\n",
       "    </tr>\n",
       "  </thead>\n",
       "  <tbody>\n",
       "    <tr>\n",
       "      <th>0</th>\n",
       "      <td>https://oceanwatch.pifsc.noaa.gov/erddap/gridd...</td>\n",
       "      <td>[analysed_sst, sea_ice_fraction]</td>\n",
       "    </tr>\n",
       "  </tbody>\n",
       "</table>\n",
       "</div>"
      ],
      "text/plain": [
       "                                             griddap  \\\n",
       "0  https://oceanwatch.pifsc.noaa.gov/erddap/gridd...   \n",
       "\n",
       "                          variables  \n",
       "0  [analysed_sst, sea_ice_fraction]  "
      ]
     },
     "metadata": {},
     "output_type": "display_data"
    },
    {
     "name": "stdout",
     "output_type": "stream",
     "text": [
      "Metadata helpful for this project are listed below\n",
      " \n",
      "Time Range: 1985-01-01 to 2020-05-06\n",
      "Data Variables: ['analysed_sst', 'sea_ice_fraction']\n",
      "Direct dataset URL: https://oceanwatch.pifsc.noaa.gov/erddap/griddap/CRW_sst_v1_0\n"
     ]
    }
   ],
   "source": [
    "dataset_info = get_dataset_info(my_erddap_location, my_ds_ID)\n",
    "\n",
    "display(dataset_info.loc[:, 'datasetID':'latitudeSpacing'])\n",
    "display(dataset_info.loc[:, 'minAltitude':'timeSpacing'])\n",
    "display(dataset_info.loc[:, 'griddap':'variables'])\n",
    "\n",
    "print(\"Metadata helpful for this project are listed below\")\n",
    "print(\" \")\n",
    "print('Time Range:', dataset_info.minTime[0][:10], 'to', dataset_info.maxTime[0][:10] )\n",
    "print('Data Variables:', dataset_info.variables[0] )\n",
    "print('Direct dataset URL:', dataset_info.griddap[0]) \n"
   ]
  },
  {
   "cell_type": "markdown",
   "metadata": {},
   "source": [
    "#### Using ERDDAP, subsample the satellite dataset and download the data\n",
    "##### Get the ERDDAP data request URL\n",
    "Two options to get the ERDDAP data request URL for the data:  \n",
    " \n",
    "__Option 1.__ Use the the ERDDAP interface to like we did in CSV format, like we did above in the `Make a virtual buoy` section under `Bring the timeseries into Python`: This is quick but is not usable for automating scripts to download data.  \n",
    "\n",
    ">Go to the ERDDAP interface at https://oceanwatch.pifsc.noaa.gov/erddap/griddap/CRW_sst_v1_0.graph and do the following:  \n",
    "* Set the `Graph Type` to linsAndMarkers\n",
    "* Set the `X Axis` to `time` and the `Y Axis` to `analysed_sst`\n",
    "* On the time (UTC) widget, set ` Start` to the Jan. 1, 2017 (`2017-01-01T12:00:00Z`) and the `Stop` to Dec. 31, 2019 (`2019-12-31T12:00:00Z`).\n",
    "* Set the `latitude (degrees_north)` to `34.767`, the latitude of our buoy, and the `longitude (degrees_east)` to `238.505`, the longitude of our buoy. \n",
    "* Click `Redraw the Graph`\n",
    "* Near the top of the ERDDAP interface, click the `Data Access Form` link. Clicking brings you to a new page where you can refine your data request. Our goal on this page is to obtain the data request URL to download the data as a CSV file. \n",
    "* Find the `File type:` dropdown and select `.csv`. Then push the \"Just `generate the URL button` and copy the link in the box to the right for th button. \n",
    ">\n",
    ">The data request URL should look like the following URL:  \n",
    ">https://oceanwatch.pifsc.noaa.gov/erddap/griddap/CRW_sst_v1_0.csv?analysed_sst[(2017-01-01T12:00:00Z):1:(2019-12-31T12:00:00Z)][(34.775):1:(34.775)][(238.525):1:(238.525)]\n",
    "\n",
    "\n",
    "__Option 2.__ Develop a function in Python to generate the data request URL:   \n",
    "\n",
    "To develop the function, use the URL obtained in Option 1 as a model, and break it down into its components. We will generate the components within Python and then put them together to create the URL.\n",
    "\n",
    "The URL components  \n",
    ">1. The direct URL to the dataset: https://oceanwatch.pifsc.noaa.gov/erddap/griddap/CRW_sst_v1_0\n",
    "Get this from our dataset_info data frame as `dataset_info.griddap`\n",
    "2. The type of file we want to download: `.csv?`  \n",
    "3. The variable of interest (`analysed_sst`). We can type the name in or get this from our dataset_info data frame as `dataset_info.griddap`  \n",
    "4. The time range: (`[(2017-01-01T12:00:00Z):1:(2019-12-31T12:00:00Z)]`). Get the time values from the maximum and minimun date/time values in the buoy_data data frame. i.e. buoy_data[\"Time_iso\"].values.min() and buoy_data[\"Time_iso\"].values.max()        \n",
    "5. The latitude range: `[(34.775):1:(34.775)]`. Get these values from the `buoy_location` dictionary, i.e. buoy_location['lat']    \n",
    "6. The longitude range:`[(238.525):1:(238.525)]`. Get these values from the `buoy_location` dictionary, i.e. buoy_location['lon']   \n",
    "\n",
    "#### The function for Option 2 is below: \n"
   ]
  },
  {
   "cell_type": "code",
   "execution_count": 36,
   "metadata": {},
   "outputs": [],
   "source": [
    "def make_erddap_url(my_var, ds_info_df, buoy_lt_ln, buoy_df):\n",
    "\n",
    "    # my_var is the data variable of interest, \n",
    "    #    which is 'analysed_sst' in this example\n",
    "    # ds_info_df is the dataset_info data frame that \n",
    "    #    we generated with the get_dataset_info() function\n",
    "    \n",
    "    maxTime = datetime.strftime(buoy_df.index.max(), '%Y-%m-%dT%H:%M:%SZ')\n",
    "    minTime = datetime.strftime(buoy_df.index.min(), '%Y-%m-%dT%H:%M:%SZ')\n",
    "\n",
    "    import math\n",
    "    st = '[('\n",
    "    ed = ')]'\n",
    "    md = '):('\n",
    "    url_1 = ''.join([dataset_info.griddap[0], '.csv?', my_var,\n",
    "             st, minTime, md,\n",
    "             #buoy_data_resampled[\"Time_iso\"].values.max(), ed])\n",
    "             maxTime, ed]) \n",
    "\n",
    "    # Check for inverted lat\n",
    "    url_lat = ''.join([st, str(buoy_lt_ln['lat']), ed]) \n",
    "    url_lon = ''.join([st, str(buoy_lt_ln['lon']), ed])\n",
    "\n",
    "    if math.isnan(ds_info_df.minAltitude[0]):\n",
    "        # print('1')\n",
    "        my_url = ''.join([url_1, url_lat, url_lon])\n",
    "        # print(my_url)\n",
    "    else:\n",
    "        # print('2')\n",
    "        url_alt = ''.join([st, str(ds_info_df.minAltitude[0]), ed]) \n",
    "        my_url = ''.join([url_1, url_lat, url_lon])\n",
    "        my_url\n",
    "        # print(my_url)\n",
    "    \n",
    "    return my_url"
   ]
  },
  {
   "cell_type": "markdown",
   "metadata": {},
   "source": [
    "### Create the ERDDAP data request URL"
   ]
  },
  {
   "cell_type": "code",
   "execution_count": 37,
   "metadata": {},
   "outputs": [
    {
     "data": {
      "text/plain": [
       "'https://oceanwatch.pifsc.noaa.gov/erddap/griddap/CRW_sst_v1_0.csv?analysed_sst[(2017-01-01T00:00:00Z):(2019-12-31T00:00:00Z)][(34.775)][(238.525)]'"
      ]
     },
     "execution_count": 37,
     "metadata": {},
     "output_type": "execute_result"
    }
   ],
   "source": [
    "erddap_url = make_erddap_url('analysed_sst', dataset_info, buoy_location, buoy_data_resampled)\n",
    "erddap_url"
   ]
  },
  {
   "cell_type": "markdown",
   "metadata": {},
   "source": [
    "### Feed the URL into our get_csvdata() function\n",
    "The function reaches out to ERDDAP to download the data.  \n",
    "__Note: Downloading may take a while, depending on your internet speed.  \n",
    "Note: If you get an error, then run function again. The server probably timed out__"
   ]
  },
  {
   "cell_type": "code",
   "execution_count": 38,
   "metadata": {},
   "outputs": [
    {
     "data": {
      "text/html": [
       "<div>\n",
       "<style scoped>\n",
       "    .dataframe tbody tr th:only-of-type {\n",
       "        vertical-align: middle;\n",
       "    }\n",
       "\n",
       "    .dataframe tbody tr th {\n",
       "        vertical-align: top;\n",
       "    }\n",
       "\n",
       "    .dataframe thead th {\n",
       "        text-align: right;\n",
       "    }\n",
       "</style>\n",
       "<table border=\"1\" class=\"dataframe\">\n",
       "  <thead>\n",
       "    <tr style=\"text-align: right;\">\n",
       "      <th></th>\n",
       "      <th>time</th>\n",
       "      <th>latitude</th>\n",
       "      <th>longitude</th>\n",
       "      <th>analysed_sst</th>\n",
       "    </tr>\n",
       "  </thead>\n",
       "  <tbody>\n",
       "    <tr>\n",
       "      <th>0</th>\n",
       "      <td>2017-01-01T12:00:00Z</td>\n",
       "      <td>34.775</td>\n",
       "      <td>238.525</td>\n",
       "      <td>12.86</td>\n",
       "    </tr>\n",
       "    <tr>\n",
       "      <th>1</th>\n",
       "      <td>2017-01-02T12:00:00Z</td>\n",
       "      <td>34.775</td>\n",
       "      <td>238.525</td>\n",
       "      <td>12.95</td>\n",
       "    </tr>\n",
       "    <tr>\n",
       "      <th>2</th>\n",
       "      <td>2017-01-03T12:00:00Z</td>\n",
       "      <td>34.775</td>\n",
       "      <td>238.525</td>\n",
       "      <td>12.98</td>\n",
       "    </tr>\n",
       "    <tr>\n",
       "      <th>3</th>\n",
       "      <td>2017-01-04T12:00:00Z</td>\n",
       "      <td>34.775</td>\n",
       "      <td>238.525</td>\n",
       "      <td>12.82</td>\n",
       "    </tr>\n",
       "    <tr>\n",
       "      <th>4</th>\n",
       "      <td>2017-01-05T12:00:00Z</td>\n",
       "      <td>34.775</td>\n",
       "      <td>238.525</td>\n",
       "      <td>12.78</td>\n",
       "    </tr>\n",
       "  </tbody>\n",
       "</table>\n",
       "</div>"
      ],
      "text/plain": [
       "                   time  latitude  longitude  analysed_sst\n",
       "0  2017-01-01T12:00:00Z    34.775    238.525         12.86\n",
       "1  2017-01-02T12:00:00Z    34.775    238.525         12.95\n",
       "2  2017-01-03T12:00:00Z    34.775    238.525         12.98\n",
       "3  2017-01-04T12:00:00Z    34.775    238.525         12.82\n",
       "4  2017-01-05T12:00:00Z    34.775    238.525         12.78"
      ]
     },
     "execution_count": 38,
     "metadata": {},
     "output_type": "execute_result"
    }
   ],
   "source": [
    "sat_data = get_csvdata(erddap_url)\n",
    "sat_data.head()"
   ]
  },
  {
   "cell_type": "markdown",
   "metadata": {},
   "source": [
    "### Clean up the data\n",
    "The data may contain data points that are outliers and that contain no data. Let's look for outliers and remove those points from the data frame if they exist. \n",
    "* Apply a conservative allowable data range. \n",
    " * For the lower end of the range, the freezing point of seawater (ca. -2).  \n",
    " * For the high end of the range, value unlikely to be seen in the area of interest (e.g. 45 degrees C). "
   ]
  },
  {
   "cell_type": "code",
   "execution_count": 39,
   "metadata": {},
   "outputs": [
    {
     "name": "stdout",
     "output_type": "stream",
     "text": [
      "# of timesteps before cleaning = 1095\n",
      "# of timesteps after cleaning = 1091\n",
      "0 times were removed\n"
     ]
    },
    {
     "data": {
      "text/html": [
       "<div>\n",
       "<style scoped>\n",
       "    .dataframe tbody tr th:only-of-type {\n",
       "        vertical-align: middle;\n",
       "    }\n",
       "\n",
       "    .dataframe tbody tr th {\n",
       "        vertical-align: top;\n",
       "    }\n",
       "\n",
       "    .dataframe thead th {\n",
       "        text-align: right;\n",
       "    }\n",
       "</style>\n",
       "<table border=\"1\" class=\"dataframe\">\n",
       "  <thead>\n",
       "    <tr style=\"text-align: right;\">\n",
       "      <th></th>\n",
       "      <th>time</th>\n",
       "      <th>latitude</th>\n",
       "      <th>longitude</th>\n",
       "      <th>analysed_sst</th>\n",
       "    </tr>\n",
       "  </thead>\n",
       "  <tbody>\n",
       "    <tr>\n",
       "      <th>0</th>\n",
       "      <td>2017-01-01T12:00:00Z</td>\n",
       "      <td>34.775</td>\n",
       "      <td>238.525</td>\n",
       "      <td>12.86</td>\n",
       "    </tr>\n",
       "    <tr>\n",
       "      <th>1</th>\n",
       "      <td>2017-01-02T12:00:00Z</td>\n",
       "      <td>34.775</td>\n",
       "      <td>238.525</td>\n",
       "      <td>12.95</td>\n",
       "    </tr>\n",
       "    <tr>\n",
       "      <th>2</th>\n",
       "      <td>2017-01-03T12:00:00Z</td>\n",
       "      <td>34.775</td>\n",
       "      <td>238.525</td>\n",
       "      <td>12.98</td>\n",
       "    </tr>\n",
       "    <tr>\n",
       "      <th>3</th>\n",
       "      <td>2017-01-04T12:00:00Z</td>\n",
       "      <td>34.775</td>\n",
       "      <td>238.525</td>\n",
       "      <td>12.82</td>\n",
       "    </tr>\n",
       "    <tr>\n",
       "      <th>4</th>\n",
       "      <td>2017-01-05T12:00:00Z</td>\n",
       "      <td>34.775</td>\n",
       "      <td>238.525</td>\n",
       "      <td>12.78</td>\n",
       "    </tr>\n",
       "  </tbody>\n",
       "</table>\n",
       "</div>"
      ],
      "text/plain": [
       "                   time  latitude  longitude  analysed_sst\n",
       "0  2017-01-01T12:00:00Z    34.775    238.525         12.86\n",
       "1  2017-01-02T12:00:00Z    34.775    238.525         12.95\n",
       "2  2017-01-03T12:00:00Z    34.775    238.525         12.98\n",
       "3  2017-01-04T12:00:00Z    34.775    238.525         12.82\n",
       "4  2017-01-05T12:00:00Z    34.775    238.525         12.78"
      ]
     },
     "execution_count": 39,
     "metadata": {},
     "output_type": "execute_result"
    }
   ],
   "source": [
    "# Get # of timesteps before cleaning\n",
    "b4 = sat_data.shape[0] \n",
    "print('# of timesteps before cleaning =', b4 )\n",
    "\n",
    "# Extract the temperature data into a data frame\n",
    "y = sat_data['analysed_sst']\n",
    "\n",
    "# Find the data that is within our acceptable range\n",
    "removed_outliers = y.between(-2, 45)\n",
    "\n",
    "# Invert the results of removed_outliers to get the \n",
    "#   indices of the values outside of the acceptable range \n",
    "index_names = sat_data[~removed_outliers].index # INVERT removed_outliers!!\n",
    "\n",
    "# Drop values outside of the acceptable range from the data frame \n",
    "sat_data.drop(index_names, inplace=True)\n",
    "sat_data.shape\n",
    "\n",
    "print('# of timesteps after cleaning =', buoy_data_resampled.shape[0] )\n",
    "print(b4-sat_data.shape[0], 'times were removed')\n",
    "sat_data.head()\n"
   ]
  },
  {
   "cell_type": "markdown",
   "metadata": {},
   "source": [
    "### Change time to match buoy time format and move time to the index location "
   ]
  },
  {
   "cell_type": "code",
   "execution_count": 40,
   "metadata": {},
   "outputs": [
    {
     "data": {
      "text/html": [
       "<div>\n",
       "<style scoped>\n",
       "    .dataframe tbody tr th:only-of-type {\n",
       "        vertical-align: middle;\n",
       "    }\n",
       "\n",
       "    .dataframe tbody tr th {\n",
       "        vertical-align: top;\n",
       "    }\n",
       "\n",
       "    .dataframe thead th {\n",
       "        text-align: right;\n",
       "    }\n",
       "</style>\n",
       "<table border=\"1\" class=\"dataframe\">\n",
       "  <thead>\n",
       "    <tr style=\"text-align: right;\">\n",
       "      <th></th>\n",
       "      <th>time</th>\n",
       "      <th>latitude</th>\n",
       "      <th>longitude</th>\n",
       "      <th>analysed_sst</th>\n",
       "    </tr>\n",
       "    <tr>\n",
       "      <th>Time</th>\n",
       "      <th></th>\n",
       "      <th></th>\n",
       "      <th></th>\n",
       "      <th></th>\n",
       "    </tr>\n",
       "  </thead>\n",
       "  <tbody>\n",
       "    <tr>\n",
       "      <th>2017-01-01</th>\n",
       "      <td>2017-01-01 12:00:00+00:00</td>\n",
       "      <td>34.775</td>\n",
       "      <td>238.525</td>\n",
       "      <td>12.86</td>\n",
       "    </tr>\n",
       "    <tr>\n",
       "      <th>2017-01-02</th>\n",
       "      <td>2017-01-02 12:00:00+00:00</td>\n",
       "      <td>34.775</td>\n",
       "      <td>238.525</td>\n",
       "      <td>12.95</td>\n",
       "    </tr>\n",
       "    <tr>\n",
       "      <th>2017-01-03</th>\n",
       "      <td>2017-01-03 12:00:00+00:00</td>\n",
       "      <td>34.775</td>\n",
       "      <td>238.525</td>\n",
       "      <td>12.98</td>\n",
       "    </tr>\n",
       "    <tr>\n",
       "      <th>2017-01-04</th>\n",
       "      <td>2017-01-04 12:00:00+00:00</td>\n",
       "      <td>34.775</td>\n",
       "      <td>238.525</td>\n",
       "      <td>12.82</td>\n",
       "    </tr>\n",
       "    <tr>\n",
       "      <th>2017-01-05</th>\n",
       "      <td>2017-01-05 12:00:00+00:00</td>\n",
       "      <td>34.775</td>\n",
       "      <td>238.525</td>\n",
       "      <td>12.78</td>\n",
       "    </tr>\n",
       "  </tbody>\n",
       "</table>\n",
       "</div>"
      ],
      "text/plain": [
       "                                time  latitude  longitude  analysed_sst\n",
       "Time                                                                   \n",
       "2017-01-01 2017-01-01 12:00:00+00:00    34.775    238.525         12.86\n",
       "2017-01-02 2017-01-02 12:00:00+00:00    34.775    238.525         12.95\n",
       "2017-01-03 2017-01-03 12:00:00+00:00    34.775    238.525         12.98\n",
       "2017-01-04 2017-01-04 12:00:00+00:00    34.775    238.525         12.82\n",
       "2017-01-05 2017-01-05 12:00:00+00:00    34.775    238.525         12.78"
      ]
     },
     "execution_count": 40,
     "metadata": {},
     "output_type": "execute_result"
    }
   ],
   "source": [
    "# Put the time column into datetime64 format\n",
    "sat_data['time'] = pd.to_datetime(sat_data['time'], errors='coerce')\n",
    "\n",
    "# Cut time part of datetime and put into new column \"Time\"\n",
    "sat_data['Time'] = sat_data['time'].dt.date\n",
    "\n",
    "# Put the Time column into datetime64 format\n",
    "sat_data['Time'] = pd.to_datetime(sat_data['Time'])\n",
    "\n",
    "# Make the index column the time column\n",
    "sat_data.set_index('Time', inplace=True)\n",
    "sat_data.head()"
   ]
  },
  {
   "cell_type": "markdown",
   "metadata": {},
   "source": [
    "### Trim buoy and satellite data to time in both datasets"
   ]
  },
  {
   "cell_type": "code",
   "execution_count": 41,
   "metadata": {},
   "outputs": [
    {
     "name": "stdout",
     "output_type": "stream",
     "text": [
      "Timesteps before in buoy data = 1091\n",
      "Timesteps after in buoy data = 1091\n",
      "Timesteps before in sat data = 1095\n",
      "Timesteps after in sat data = 1091\n"
     ]
    }
   ],
   "source": [
    "# keep only the buoy_data_resampled times that are in sat_data\n",
    "print ('Timesteps before in buoy data =', buoy_data_resampled.shape[0])\n",
    "buoy_data_final = buoy_data_resampled[buoy_data_resampled.index.isin(sat_data.index)]\n",
    "print ('Timesteps after in buoy data =', buoy_data_final.shape[0])\n",
    "\n",
    "# keep only the sat_data times that are in buoy_data_final\n",
    "print ('Timesteps before in sat data =', sat_data.shape[0])\n",
    "sat_data_final = sat_data[sat_data.index.isin(buoy_data_final.index)]\n",
    "print ('Timesteps after in sat data =', sat_data_final.shape[0])"
   ]
  },
  {
   "cell_type": "markdown",
   "metadata": {},
   "source": [
    "### Plot both datasets"
   ]
  },
  {
   "cell_type": "code",
   "execution_count": 42,
   "metadata": {},
   "outputs": [
    {
     "data": {
      "text/plain": [
       "<matplotlib.legend.Legend at 0x7fe128cfad30>"
      ]
     },
     "execution_count": 42,
     "metadata": {},
     "output_type": "execute_result"
    },
    {
     "data": {
      "image/png": "[encoded data removed]",
      "text/plain": [
       "<Figure size 864x288 with 1 Axes>"
      ]
     },
     "metadata": {
      "needs_background": "light"
     },
     "output_type": "display_data"
    }
   ],
   "source": [
    "plt.figure(figsize=(12, 4))\n",
    "\n",
    "# set the minimun and maxium for the y axis\n",
    "plt.ylim(12, 20)\n",
    "\n",
    "# set the the plot.\n",
    "# The \"ro\" indicates a red filled circular marker. The \"b\" incicates a blue line.\n",
    "plt.plot(sat_data_final.index, sat_data_final.analysed_sst, \"ro\", label=\"Satellite\")\n",
    "plt.plot(buoy_data_final.index, buoy_data_final.WTMP_degC, \"b\", label=\"NDBC Buoy\")\n",
    "plt.legend(loc=\"upper right\")\n",
    "#plt.plot(sat_data_final.index, sat_data_final.analysed_sst, \"ro\", buoy_data_final.index, buoy_data_final.WTMP_degC, \"b\")"
   ]
  },
  {
   "cell_type": "markdown",
   "metadata": {},
   "source": [
    "### Generate a linear regression of satellite vs. buoy data"
   ]
  },
  {
   "cell_type": "code",
   "execution_count": 43,
   "metadata": {},
   "outputs": [
    {
     "name": "stdout",
     "output_type": "stream",
     "text": [
      "Y-Intecept:  0.5405961228224723\n",
      "Slope:  0.9552319646358263\n",
      "R2:  0.9222691281309615\n"
     ]
    },
    {
     "data": {
      "text/html": [
       "<table class=\"simpletable\">\n",
       "<caption>OLS Regression Results</caption>\n",
       "<tr>\n",
       "  <th>Dep. Variable:</th>            <td>y</td>        <th>  R-squared:         </th> <td>   0.922</td> \n",
       "</tr>\n",
       "<tr>\n",
       "  <th>Model:</th>                   <td>OLS</td>       <th>  Adj. R-squared:    </th> <td>   0.922</td> \n",
       "</tr>\n",
       "<tr>\n",
       "  <th>Method:</th>             <td>Least Squares</td>  <th>  F-statistic:       </th> <td>1.292e+04</td>\n",
       "</tr>\n",
       "<tr>\n",
       "  <th>Date:</th>             <td>Fri, 08 May 2020</td> <th>  Prob (F-statistic):</th>  <td>  0.00</td>  \n",
       "</tr>\n",
       "<tr>\n",
       "  <th>Time:</th>                 <td>07:49:44</td>     <th>  Log-Likelihood:    </th> <td> -515.13</td> \n",
       "</tr>\n",
       "<tr>\n",
       "  <th>No. Observations:</th>      <td>  1091</td>      <th>  AIC:               </th> <td>   1034.</td> \n",
       "</tr>\n",
       "<tr>\n",
       "  <th>Df Residuals:</th>          <td>  1089</td>      <th>  BIC:               </th> <td>   1044.</td> \n",
       "</tr>\n",
       "<tr>\n",
       "  <th>Df Model:</th>              <td>     1</td>      <th>                     </th>     <td> </td>    \n",
       "</tr>\n",
       "<tr>\n",
       "  <th>Covariance Type:</th>      <td>nonrobust</td>    <th>                     </th>     <td> </td>    \n",
       "</tr>\n",
       "</table>\n",
       "<table class=\"simpletable\">\n",
       "<tr>\n",
       "    <td></td>       <th>coef</th>     <th>std err</th>      <th>t</th>      <th>P>|t|</th>  <th>[0.025</th>    <th>0.975]</th>  \n",
       "</tr>\n",
       "<tr>\n",
       "  <th>const</th> <td>    0.5406</td> <td>    0.127</td> <td>    4.244</td> <td> 0.000</td> <td>    0.291</td> <td>    0.791</td>\n",
       "</tr>\n",
       "<tr>\n",
       "  <th>x1</th>    <td>    0.9552</td> <td>    0.008</td> <td>  113.670</td> <td> 0.000</td> <td>    0.939</td> <td>    0.972</td>\n",
       "</tr>\n",
       "</table>\n",
       "<table class=\"simpletable\">\n",
       "<tr>\n",
       "  <th>Omnibus:</th>       <td>32.660</td> <th>  Durbin-Watson:     </th> <td>   0.738</td>\n",
       "</tr>\n",
       "<tr>\n",
       "  <th>Prob(Omnibus):</th> <td> 0.000</td> <th>  Jarque-Bera (JB):  </th> <td>  64.951</td>\n",
       "</tr>\n",
       "<tr>\n",
       "  <th>Skew:</th>          <td>-0.171</td> <th>  Prob(JB):          </th> <td>7.87e-15</td>\n",
       "</tr>\n",
       "<tr>\n",
       "  <th>Kurtosis:</th>      <td> 4.145</td> <th>  Cond. No.          </th> <td>    165.</td>\n",
       "</tr>\n",
       "</table><br/><br/>Warnings:<br/>[1] Standard Errors assume that the covariance matrix of the errors is correctly specified."
      ],
      "text/plain": [
       "<class 'statsmodels.iolib.summary.Summary'>\n",
       "\"\"\"\n",
       "                            OLS Regression Results                            \n",
       "==============================================================================\n",
       "Dep. Variable:                      y   R-squared:                       0.922\n",
       "Model:                            OLS   Adj. R-squared:                  0.922\n",
       "Method:                 Least Squares   F-statistic:                 1.292e+04\n",
       "Date:                Fri, 08 May 2020   Prob (F-statistic):               0.00\n",
       "Time:                        07:49:44   Log-Likelihood:                -515.13\n",
       "No. Observations:                1091   AIC:                             1034.\n",
       "Df Residuals:                    1089   BIC:                             1044.\n",
       "Df Model:                           1                                         \n",
       "Covariance Type:            nonrobust                                         \n",
       "==============================================================================\n",
       "                 coef    std err          t      P>|t|      [0.025      0.975]\n",
       "------------------------------------------------------------------------------\n",
       "const          0.5406      0.127      4.244      0.000       0.291       0.791\n",
       "x1             0.9552      0.008    113.670      0.000       0.939       0.972\n",
       "==============================================================================\n",
       "Omnibus:                       32.660   Durbin-Watson:                   0.738\n",
       "Prob(Omnibus):                  0.000   Jarque-Bera (JB):               64.951\n",
       "Skew:                          -0.171   Prob(JB):                     7.87e-15\n",
       "Kurtosis:                       4.145   Cond. No.                         165.\n",
       "==============================================================================\n",
       "\n",
       "Warnings:\n",
       "[1] Standard Errors assume that the covariance matrix of the errors is correctly specified.\n",
       "\"\"\""
      ]
     },
     "execution_count": 43,
     "metadata": {},
     "output_type": "execute_result"
    }
   ],
   "source": [
    "import statsmodels.api as sm\n",
    "#Y1 = np.array(buoy_data_final.WTMP_degC)\n",
    "Y1 = np.array(sat_data_final.analysed_sst)\n",
    "#X1 = np.array(sat_data_final.analysed_sst)\n",
    "X1 = np.array(buoy_data_final.WTMP_degC)\n",
    "X1_b=sm.add_constant(X1)\n",
    "model = sm.OLS(Y1, X1_b, missing='drop')\n",
    "results = model.fit()\n",
    "\n",
    "\n",
    "print('Y-Intecept: ', results.params[0])\n",
    "print('Slope: ', results.params[1])\n",
    "print('R2: ', results.rsquared)\n",
    "\n",
    "results.summary()"
   ]
  },
  {
   "cell_type": "markdown",
   "metadata": {},
   "source": [
    "### Plot satellite vs. buoy data and overlay the regression line"
   ]
  },
  {
   "cell_type": "code",
   "execution_count": 44,
   "metadata": {},
   "outputs": [
    {
     "data": {
      "image/png": "[encoded data removed]",
      "text/plain": [
       "<Figure size 432x288 with 1 Axes>"
      ]
     },
     "metadata": {
      "needs_background": "light"
     },
     "output_type": "display_data"
    }
   ],
   "source": [
    "Y_predicted=results.predict(X1_b)\n",
    "plt.scatter(X1,Y1, s=40, facecolors='green', edgecolors='black')\n",
    "plt.xlabel(\"Buoy SST\")\n",
    "plt.ylabel(\"Satellite SST\")\n",
    "plt.plot(X1,Y_predicted, \"r\")\n",
    "plt.show()"
   ]
  },
  {
   "cell_type": "markdown",
   "metadata": {},
   "source": [
    "# DONE"
   ]
  },
  {
   "cell_type": "markdown",
   "metadata": {},
   "source": [
    "## Appendix A - Get data from NDBC"
   ]
  },
  {
   "cell_type": "code",
   "execution_count": 45,
   "metadata": {},
   "outputs": [
    {
     "name": "stdout",
     "output_type": "stream",
     "text": [
      "Got 2017\n",
      "Got 2018\n",
      "Got 2019\n"
     ]
    },
    {
     "data": {
      "text/html": [
       "<div>\n",
       "<style scoped>\n",
       "    .dataframe tbody tr th:only-of-type {\n",
       "        vertical-align: middle;\n",
       "    }\n",
       "\n",
       "    .dataframe tbody tr th {\n",
       "        vertical-align: top;\n",
       "    }\n",
       "\n",
       "    .dataframe thead th {\n",
       "        text-align: right;\n",
       "    }\n",
       "</style>\n",
       "<table border=\"1\" class=\"dataframe\">\n",
       "  <thead>\n",
       "    <tr style=\"text-align: right;\">\n",
       "      <th></th>\n",
       "      <th>#YY</th>\n",
       "      <th>MM</th>\n",
       "      <th>DD</th>\n",
       "      <th>hh</th>\n",
       "      <th>mm</th>\n",
       "      <th>WDIR</th>\n",
       "      <th>WSPD</th>\n",
       "      <th>GST</th>\n",
       "      <th>WVHT</th>\n",
       "      <th>DPD</th>\n",
       "      <th>APD</th>\n",
       "      <th>MWD</th>\n",
       "      <th>PRES</th>\n",
       "      <th>ATMP</th>\n",
       "      <th>WTMP</th>\n",
       "      <th>DEWP</th>\n",
       "      <th>VIS</th>\n",
       "      <th>TIDE</th>\n",
       "    </tr>\n",
       "  </thead>\n",
       "  <tbody>\n",
       "    <tr>\n",
       "      <th>0</th>\n",
       "      <td>2017</td>\n",
       "      <td>1</td>\n",
       "      <td>1</td>\n",
       "      <td>0</td>\n",
       "      <td>0</td>\n",
       "      <td>999</td>\n",
       "      <td>99.0</td>\n",
       "      <td>99.0</td>\n",
       "      <td>2.99</td>\n",
       "      <td>11.76</td>\n",
       "      <td>8.76</td>\n",
       "      <td>317</td>\n",
       "      <td>9999.0</td>\n",
       "      <td>999.0</td>\n",
       "      <td>13.1</td>\n",
       "      <td>999.0</td>\n",
       "      <td>99.0</td>\n",
       "      <td>99.0</td>\n",
       "    </tr>\n",
       "    <tr>\n",
       "      <th>1</th>\n",
       "      <td>2017</td>\n",
       "      <td>1</td>\n",
       "      <td>1</td>\n",
       "      <td>0</td>\n",
       "      <td>30</td>\n",
       "      <td>999</td>\n",
       "      <td>99.0</td>\n",
       "      <td>99.0</td>\n",
       "      <td>3.00</td>\n",
       "      <td>12.50</td>\n",
       "      <td>8.91</td>\n",
       "      <td>313</td>\n",
       "      <td>9999.0</td>\n",
       "      <td>999.0</td>\n",
       "      <td>13.0</td>\n",
       "      <td>999.0</td>\n",
       "      <td>99.0</td>\n",
       "      <td>99.0</td>\n",
       "    </tr>\n",
       "    <tr>\n",
       "      <th>2</th>\n",
       "      <td>2017</td>\n",
       "      <td>1</td>\n",
       "      <td>1</td>\n",
       "      <td>1</td>\n",
       "      <td>0</td>\n",
       "      <td>999</td>\n",
       "      <td>99.0</td>\n",
       "      <td>99.0</td>\n",
       "      <td>3.14</td>\n",
       "      <td>11.11</td>\n",
       "      <td>9.05</td>\n",
       "      <td>307</td>\n",
       "      <td>9999.0</td>\n",
       "      <td>999.0</td>\n",
       "      <td>13.0</td>\n",
       "      <td>999.0</td>\n",
       "      <td>99.0</td>\n",
       "      <td>99.0</td>\n",
       "    </tr>\n",
       "    <tr>\n",
       "      <th>3</th>\n",
       "      <td>2017</td>\n",
       "      <td>1</td>\n",
       "      <td>1</td>\n",
       "      <td>1</td>\n",
       "      <td>30</td>\n",
       "      <td>999</td>\n",
       "      <td>99.0</td>\n",
       "      <td>99.0</td>\n",
       "      <td>3.36</td>\n",
       "      <td>12.50</td>\n",
       "      <td>9.46</td>\n",
       "      <td>302</td>\n",
       "      <td>9999.0</td>\n",
       "      <td>999.0</td>\n",
       "      <td>13.0</td>\n",
       "      <td>999.0</td>\n",
       "      <td>99.0</td>\n",
       "      <td>99.0</td>\n",
       "    </tr>\n",
       "    <tr>\n",
       "      <th>4</th>\n",
       "      <td>2017</td>\n",
       "      <td>1</td>\n",
       "      <td>1</td>\n",
       "      <td>2</td>\n",
       "      <td>0</td>\n",
       "      <td>999</td>\n",
       "      <td>99.0</td>\n",
       "      <td>99.0</td>\n",
       "      <td>3.12</td>\n",
       "      <td>11.76</td>\n",
       "      <td>9.28</td>\n",
       "      <td>313</td>\n",
       "      <td>9999.0</td>\n",
       "      <td>999.0</td>\n",
       "      <td>13.0</td>\n",
       "      <td>999.0</td>\n",
       "      <td>99.0</td>\n",
       "      <td>99.0</td>\n",
       "    </tr>\n",
       "  </tbody>\n",
       "</table>\n",
       "</div>"
      ],
      "text/plain": [
       "    #YY  MM  DD  hh  mm  WDIR  WSPD   GST  WVHT    DPD   APD  MWD    PRES  \\\n",
       "0  2017   1   1   0   0   999  99.0  99.0  2.99  11.76  8.76  317  9999.0   \n",
       "1  2017   1   1   0  30   999  99.0  99.0  3.00  12.50  8.91  313  9999.0   \n",
       "2  2017   1   1   1   0   999  99.0  99.0  3.14  11.11  9.05  307  9999.0   \n",
       "3  2017   1   1   1  30   999  99.0  99.0  3.36  12.50  9.46  302  9999.0   \n",
       "4  2017   1   1   2   0   999  99.0  99.0  3.12  11.76  9.28  313  9999.0   \n",
       "\n",
       "    ATMP  WTMP   DEWP   VIS  TIDE  \n",
       "0  999.0  13.1  999.0  99.0  99.0  \n",
       "1  999.0  13.0  999.0  99.0  99.0  \n",
       "2  999.0  13.0  999.0  99.0  99.0  \n",
       "3  999.0  13.0  999.0  99.0  99.0  \n",
       "4  999.0  13.0  999.0  99.0  99.0  "
      ]
     },
     "execution_count": 45,
     "metadata": {},
     "output_type": "execute_result"
    }
   ],
   "source": [
    "# select buoy years\n",
    "buoy_years = ['2017', '2018', '2019']\n",
    "# select buoy ID\n",
    "buoy_no = '46259'\n",
    "# set up url parts\n",
    "url_base = 'https://www.ndbc.noaa.gov/view_text_file.php?filename='\n",
    "url_end = '.txt.gz&dir=data/historical/stdmet/'\n",
    "\n",
    "for i in range(0, len(buoy_years)):\n",
    "    buoy_url = ''.join([url_base, buoy_no, 'h', buoy_years[i], url_end])\n",
    "    response = requests.get(buoy_url).content\n",
    "    print('Got', buoy_years[i])\n",
    "    if i == 0:\n",
    "        #print('N')\n",
    "        buoy_df = pd.read_csv(io.StringIO(response.decode('utf-8')), skiprows=[1], sep=' ', skipinitialspace=True)\n",
    "        continue\n",
    "    else:\n",
    "        #print('Y')\n",
    "        temp_df = pd.read_csv(io.StringIO(response.decode('utf-8')), skiprows=[1], sep=' ', skipinitialspace=True)\n",
    "        buoy_df = buoy_df.append(temp_df, ignore_index=True)\n",
    "        \n",
    "buoy_df.head()"
   ]
  },
  {
   "cell_type": "markdown",
   "metadata": {},
   "source": [
    "__Edit the dataframe to include only the needed columns__"
   ]
  },
  {
   "cell_type": "code",
   "execution_count": 46,
   "metadata": {},
   "outputs": [
    {
     "data": {
      "text/html": [
       "<div>\n",
       "<style scoped>\n",
       "    .dataframe tbody tr th:only-of-type {\n",
       "        vertical-align: middle;\n",
       "    }\n",
       "\n",
       "    .dataframe tbody tr th {\n",
       "        vertical-align: top;\n",
       "    }\n",
       "\n",
       "    .dataframe thead th {\n",
       "        text-align: right;\n",
       "    }\n",
       "</style>\n",
       "<table border=\"1\" class=\"dataframe\">\n",
       "  <thead>\n",
       "    <tr style=\"text-align: right;\">\n",
       "      <th></th>\n",
       "      <th>#YY</th>\n",
       "      <th>MM</th>\n",
       "      <th>DD</th>\n",
       "      <th>hh</th>\n",
       "      <th>mm</th>\n",
       "      <th>WTMP</th>\n",
       "    </tr>\n",
       "  </thead>\n",
       "  <tbody>\n",
       "    <tr>\n",
       "      <th>0</th>\n",
       "      <td>2017</td>\n",
       "      <td>1</td>\n",
       "      <td>1</td>\n",
       "      <td>0</td>\n",
       "      <td>0</td>\n",
       "      <td>13.1</td>\n",
       "    </tr>\n",
       "    <tr>\n",
       "      <th>1</th>\n",
       "      <td>2017</td>\n",
       "      <td>1</td>\n",
       "      <td>1</td>\n",
       "      <td>0</td>\n",
       "      <td>30</td>\n",
       "      <td>13.0</td>\n",
       "    </tr>\n",
       "    <tr>\n",
       "      <th>2</th>\n",
       "      <td>2017</td>\n",
       "      <td>1</td>\n",
       "      <td>1</td>\n",
       "      <td>1</td>\n",
       "      <td>0</td>\n",
       "      <td>13.0</td>\n",
       "    </tr>\n",
       "    <tr>\n",
       "      <th>3</th>\n",
       "      <td>2017</td>\n",
       "      <td>1</td>\n",
       "      <td>1</td>\n",
       "      <td>1</td>\n",
       "      <td>30</td>\n",
       "      <td>13.0</td>\n",
       "    </tr>\n",
       "    <tr>\n",
       "      <th>4</th>\n",
       "      <td>2017</td>\n",
       "      <td>1</td>\n",
       "      <td>1</td>\n",
       "      <td>2</td>\n",
       "      <td>0</td>\n",
       "      <td>13.0</td>\n",
       "    </tr>\n",
       "  </tbody>\n",
       "</table>\n",
       "</div>"
      ],
      "text/plain": [
       "    #YY  MM  DD  hh  mm  WTMP\n",
       "0  2017   1   1   0   0  13.1\n",
       "1  2017   1   1   0  30  13.0\n",
       "2  2017   1   1   1   0  13.0\n",
       "3  2017   1   1   1  30  13.0\n",
       "4  2017   1   1   2   0  13.0"
      ]
     },
     "execution_count": 46,
     "metadata": {},
     "output_type": "execute_result"
    }
   ],
   "source": [
    "buoy_df = buoy_df[['#YY', 'MM', 'DD', 'hh', 'mm', 'WTMP']]\n",
    "buoy_df.head()"
   ]
  },
  {
   "cell_type": "markdown",
   "metadata": {},
   "source": [
    "__Set up a dictionary to rename the date/time columns__"
   ]
  },
  {
   "cell_type": "code",
   "execution_count": 47,
   "metadata": {},
   "outputs": [
    {
     "data": {
      "text/plain": [
       "{'#YY': 'year', 'MM': 'month', 'DD': 'day', 'hh': 'hour', 'mm': 'minute'}"
      ]
     },
     "execution_count": 47,
     "metadata": {},
     "output_type": "execute_result"
    }
   ],
   "source": [
    "rename_dict = dict(zip(['#YY', 'MM', 'DD', 'hh', 'mm'], ('year', 'month', 'day', 'hour', 'minute')))\n",
    "rename_dict"
   ]
  },
  {
   "cell_type": "markdown",
   "metadata": {},
   "source": [
    "__Use the date columns to create a date object column__  \n",
    "Put the date object column in the index position"
   ]
  },
  {
   "cell_type": "code",
   "execution_count": 48,
   "metadata": {},
   "outputs": [
    {
     "data": {
      "text/html": [
       "<div>\n",
       "<style scoped>\n",
       "    .dataframe tbody tr th:only-of-type {\n",
       "        vertical-align: middle;\n",
       "    }\n",
       "\n",
       "    .dataframe tbody tr th {\n",
       "        vertical-align: top;\n",
       "    }\n",
       "\n",
       "    .dataframe thead th {\n",
       "        text-align: right;\n",
       "    }\n",
       "</style>\n",
       "<table border=\"1\" class=\"dataframe\">\n",
       "  <thead>\n",
       "    <tr style=\"text-align: right;\">\n",
       "      <th></th>\n",
       "      <th>#YY</th>\n",
       "      <th>MM</th>\n",
       "      <th>DD</th>\n",
       "      <th>hh</th>\n",
       "      <th>mm</th>\n",
       "      <th>WTMP</th>\n",
       "    </tr>\n",
       "  </thead>\n",
       "  <tbody>\n",
       "    <tr>\n",
       "      <th>2017-01-01 00:00:00</th>\n",
       "      <td>2017</td>\n",
       "      <td>1</td>\n",
       "      <td>1</td>\n",
       "      <td>0</td>\n",
       "      <td>0</td>\n",
       "      <td>13.1</td>\n",
       "    </tr>\n",
       "    <tr>\n",
       "      <th>2017-01-01 00:30:00</th>\n",
       "      <td>2017</td>\n",
       "      <td>1</td>\n",
       "      <td>1</td>\n",
       "      <td>0</td>\n",
       "      <td>30</td>\n",
       "      <td>13.0</td>\n",
       "    </tr>\n",
       "    <tr>\n",
       "      <th>2017-01-01 01:00:00</th>\n",
       "      <td>2017</td>\n",
       "      <td>1</td>\n",
       "      <td>1</td>\n",
       "      <td>1</td>\n",
       "      <td>0</td>\n",
       "      <td>13.0</td>\n",
       "    </tr>\n",
       "    <tr>\n",
       "      <th>2017-01-01 01:30:00</th>\n",
       "      <td>2017</td>\n",
       "      <td>1</td>\n",
       "      <td>1</td>\n",
       "      <td>1</td>\n",
       "      <td>30</td>\n",
       "      <td>13.0</td>\n",
       "    </tr>\n",
       "    <tr>\n",
       "      <th>2017-01-01 02:00:00</th>\n",
       "      <td>2017</td>\n",
       "      <td>1</td>\n",
       "      <td>1</td>\n",
       "      <td>2</td>\n",
       "      <td>0</td>\n",
       "      <td>13.0</td>\n",
       "    </tr>\n",
       "    <tr>\n",
       "      <th>...</th>\n",
       "      <td>...</td>\n",
       "      <td>...</td>\n",
       "      <td>...</td>\n",
       "      <td>...</td>\n",
       "      <td>...</td>\n",
       "      <td>...</td>\n",
       "    </tr>\n",
       "    <tr>\n",
       "      <th>2019-12-31 21:30:00</th>\n",
       "      <td>2019</td>\n",
       "      <td>12</td>\n",
       "      <td>31</td>\n",
       "      <td>21</td>\n",
       "      <td>30</td>\n",
       "      <td>14.0</td>\n",
       "    </tr>\n",
       "    <tr>\n",
       "      <th>2019-12-31 22:00:00</th>\n",
       "      <td>2019</td>\n",
       "      <td>12</td>\n",
       "      <td>31</td>\n",
       "      <td>22</td>\n",
       "      <td>0</td>\n",
       "      <td>14.1</td>\n",
       "    </tr>\n",
       "    <tr>\n",
       "      <th>2019-12-31 22:30:00</th>\n",
       "      <td>2019</td>\n",
       "      <td>12</td>\n",
       "      <td>31</td>\n",
       "      <td>22</td>\n",
       "      <td>30</td>\n",
       "      <td>14.1</td>\n",
       "    </tr>\n",
       "    <tr>\n",
       "      <th>2019-12-31 23:00:00</th>\n",
       "      <td>2019</td>\n",
       "      <td>12</td>\n",
       "      <td>31</td>\n",
       "      <td>23</td>\n",
       "      <td>0</td>\n",
       "      <td>14.1</td>\n",
       "    </tr>\n",
       "    <tr>\n",
       "      <th>2019-12-31 23:30:00</th>\n",
       "      <td>2019</td>\n",
       "      <td>12</td>\n",
       "      <td>31</td>\n",
       "      <td>23</td>\n",
       "      <td>30</td>\n",
       "      <td>14.1</td>\n",
       "    </tr>\n",
       "  </tbody>\n",
       "</table>\n",
       "<p>50900 rows × 6 columns</p>\n",
       "</div>"
      ],
      "text/plain": [
       "                      #YY  MM  DD  hh  mm  WTMP\n",
       "2017-01-01 00:00:00  2017   1   1   0   0  13.1\n",
       "2017-01-01 00:30:00  2017   1   1   0  30  13.0\n",
       "2017-01-01 01:00:00  2017   1   1   1   0  13.0\n",
       "2017-01-01 01:30:00  2017   1   1   1  30  13.0\n",
       "2017-01-01 02:00:00  2017   1   1   2   0  13.0\n",
       "...                   ...  ..  ..  ..  ..   ...\n",
       "2019-12-31 21:30:00  2019  12  31  21  30  14.0\n",
       "2019-12-31 22:00:00  2019  12  31  22   0  14.1\n",
       "2019-12-31 22:30:00  2019  12  31  22  30  14.1\n",
       "2019-12-31 23:00:00  2019  12  31  23   0  14.1\n",
       "2019-12-31 23:30:00  2019  12  31  23  30  14.1\n",
       "\n",
       "[50900 rows x 6 columns]"
      ]
     },
     "execution_count": 48,
     "metadata": {},
     "output_type": "execute_result"
    }
   ],
   "source": [
    "#buoy_df.index = pd.to_datetime(buoy_df[['#YY', 'MM', 'DD', 'hh', 'mm']].rename(columns=mapper))\n",
    "#df1\n",
    "buoy_df.index = pd.to_datetime(buoy_df[['#YY', 'MM', 'DD', 'hh', 'mm']].rename(columns=rename_dict))\n",
    "buoy_df"
   ]
  },
  {
   "cell_type": "markdown",
   "metadata": {},
   "source": [
    "__Remove the unneeded columns from the dataframe__"
   ]
  },
  {
   "cell_type": "code",
   "execution_count": 49,
   "metadata": {},
   "outputs": [
    {
     "data": {
      "text/html": [
       "<div>\n",
       "<style scoped>\n",
       "    .dataframe tbody tr th:only-of-type {\n",
       "        vertical-align: middle;\n",
       "    }\n",
       "\n",
       "    .dataframe tbody tr th {\n",
       "        vertical-align: top;\n",
       "    }\n",
       "\n",
       "    .dataframe thead th {\n",
       "        text-align: right;\n",
       "    }\n",
       "</style>\n",
       "<table border=\"1\" class=\"dataframe\">\n",
       "  <thead>\n",
       "    <tr style=\"text-align: right;\">\n",
       "      <th></th>\n",
       "      <th>WTMP</th>\n",
       "    </tr>\n",
       "  </thead>\n",
       "  <tbody>\n",
       "    <tr>\n",
       "      <th>2017-01-01 00:00:00</th>\n",
       "      <td>13.1</td>\n",
       "    </tr>\n",
       "    <tr>\n",
       "      <th>2017-01-01 00:30:00</th>\n",
       "      <td>13.0</td>\n",
       "    </tr>\n",
       "    <tr>\n",
       "      <th>2017-01-01 01:00:00</th>\n",
       "      <td>13.0</td>\n",
       "    </tr>\n",
       "    <tr>\n",
       "      <th>2017-01-01 01:30:00</th>\n",
       "      <td>13.0</td>\n",
       "    </tr>\n",
       "    <tr>\n",
       "      <th>2017-01-01 02:00:00</th>\n",
       "      <td>13.0</td>\n",
       "    </tr>\n",
       "    <tr>\n",
       "      <th>...</th>\n",
       "      <td>...</td>\n",
       "    </tr>\n",
       "    <tr>\n",
       "      <th>2019-12-31 21:30:00</th>\n",
       "      <td>14.0</td>\n",
       "    </tr>\n",
       "    <tr>\n",
       "      <th>2019-12-31 22:00:00</th>\n",
       "      <td>14.1</td>\n",
       "    </tr>\n",
       "    <tr>\n",
       "      <th>2019-12-31 22:30:00</th>\n",
       "      <td>14.1</td>\n",
       "    </tr>\n",
       "    <tr>\n",
       "      <th>2019-12-31 23:00:00</th>\n",
       "      <td>14.1</td>\n",
       "    </tr>\n",
       "    <tr>\n",
       "      <th>2019-12-31 23:30:00</th>\n",
       "      <td>14.1</td>\n",
       "    </tr>\n",
       "  </tbody>\n",
       "</table>\n",
       "<p>50900 rows × 1 columns</p>\n",
       "</div>"
      ],
      "text/plain": [
       "                     WTMP\n",
       "2017-01-01 00:00:00  13.1\n",
       "2017-01-01 00:30:00  13.0\n",
       "2017-01-01 01:00:00  13.0\n",
       "2017-01-01 01:30:00  13.0\n",
       "2017-01-01 02:00:00  13.0\n",
       "...                   ...\n",
       "2019-12-31 21:30:00  14.0\n",
       "2019-12-31 22:00:00  14.1\n",
       "2019-12-31 22:30:00  14.1\n",
       "2019-12-31 23:00:00  14.1\n",
       "2019-12-31 23:30:00  14.1\n",
       "\n",
       "[50900 rows x 1 columns]"
      ]
     },
     "execution_count": 49,
     "metadata": {},
     "output_type": "execute_result"
    }
   ],
   "source": [
    "#buoy_df = buoy_df[['#YY', 'MM', 'DD', 'hh', 'mm', 'WTMP']]\n",
    "buoy_df.drop(['#YY','MM', 'DD', 'hh', 'mm'], axis=1, inplace=True)\n",
    "buoy_df"
   ]
  },
  {
   "cell_type": "code",
   "execution_count": null,
   "metadata": {},
   "outputs": [],
   "source": []
  }
 ],
 "metadata": {
  "kernelspec": {
   "display_name": "Python 3",
   "language": "python",
   "name": "python3"
  },
  "language_info": {
   "codemirror_mode": {
    "name": "ipython",
    "version": 3
   },
   "file_extension": ".py",
   "mimetype": "text/x-python",
   "name": "python",
   "nbconvert_exporter": "python",
   "pygments_lexer": "ipython3",
   "version": "3.7.3"
  }
 },
 "nbformat": 4,
 "nbformat_minor": 4
}
